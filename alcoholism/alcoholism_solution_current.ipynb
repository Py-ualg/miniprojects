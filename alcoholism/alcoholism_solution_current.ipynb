{
 "cells": [
  {
   "cell_type": "markdown",
   "id": "ba96bab1-f0d9-4069-b163-9234158ee86d",
   "metadata": {},
   "source": [
    "## Coding sprint (15/12)\n",
    "## Task:\n",
    "Predict 'Total alcohol consumption per capita (liters of pure alcohol, projected estimates, 15+ years of age)' from other World development indicators\n",
    "https://datacatalog.worldbank.org/home\n",
    "\n",
    "### Group 1\n",
    "https://pypi.org/project/wbgapi/\n",
    "1. Access world bank data via python API, wbgapi\n",
    "2. Get the alcohol indicator, and search other indicators (year 2019)\n",
    "3. Your final product is pandas DataFrame containing 10 relevant indicators of your choice\n",
    "\n",
    "### Group 2\n",
    "https://pandas.pydata.org/docs/reference/api/pandas.DataFrame.corr.html\n",
    "1. Your input is the DF from the above\n",
    "2. Solve the problem with missing values (what are you going to do? substitute, invent a value, ignore a country?)\n",
    "3. Find 5 best candidate predictors of the alcohol comsuption out of the 10 in the table\n",
    "\n",
    "### Group 3\n",
    "https://scikit-learn.org/stable/modules/generated/sklearn.linear_model.LinearRegression.html\n",
    "1. Your input is Dataframe with 5 predictors (features) and target alcohol column.\n",
    "2. Split the data into train and test.\n",
    "3. prepare a linear regression model (scikit learn LinearRegression()) to fit the data\n",
    "5. Find evaluation metrics of the model.\n",
    "6. Predict the test data. How is the performance between train and test?"
   ]
  },
  {
   "cell_type": "code",
   "execution_count": 1,
   "id": "9bb13a22-7e17-4462-84b5-a8010ed1b8db",
   "metadata": {},
   "outputs": [],
   "source": [
    "import wbgapi as wb\n",
    "import pandas as pd\n",
    "import numpy as np\n",
    "import seaborn as sns\n",
    "import matplotlib.pyplot as plt\n",
    "import sklearn\n",
    "from sklearn import model_selection\n",
    "from sklearn import linear_model\n",
    "from pandas_datapackage_reader import read_datapackage\n",
    "from tqdm import tqdm\n",
    "# pip install pandas-datapackage-reader"
   ]
  },
  {
   "cell_type": "markdown",
   "id": "2f4900a6-3834-414c-8e9d-a01d2e4a7240",
   "metadata": {},
   "source": [
    "## Intro to wbgapi"
   ]
  },
  {
   "cell_type": "code",
   "execution_count": 2,
   "id": "a07374c0-e373-4b11-b0d9-577ed9f5ce7d",
   "metadata": {},
   "outputs": [],
   "source": [
    "# help for API methods\n",
    "# help(wb.series)"
   ]
  },
  {
   "cell_type": "code",
   "execution_count": 3,
   "id": "00461d38-b512-4bd4-b174-e955504f0430",
   "metadata": {},
   "outputs": [],
   "source": [
    "# fultext search of datasets\n",
    "# wb.search('alcohol')"
   ]
  },
  {
   "cell_type": "code",
   "execution_count": 4,
   "id": "ccbcceda-6691-4b01-a94d-cf1cdc6b7114",
   "metadata": {},
   "outputs": [
    {
     "data": {
      "text/html": [
       "<div class=\"wbgapi\"><table>\n",
       "<thead>\n",
       "<tr><th>id               </th><th>value                                                                                                              </th></tr>\n",
       "</thead>\n",
       "<tbody>\n",
       "<tr><td>SH.ALC.PCAP.FE.LI</td><td>Total alcohol consumption per capita, female (liters of pure alcohol, projected estimates, female 15+ years of age)</td></tr>\n",
       "<tr><td>SH.ALC.PCAP.LI   </td><td>Total alcohol consumption per capita (liters of pure alcohol, projected estimates, 15+ years of age)               </td></tr>\n",
       "<tr><td>SH.ALC.PCAP.MA.LI</td><td>Total alcohol consumption per capita, male (liters of pure alcohol, projected estimates, male 15+ years of age)    </td></tr>\n",
       "<tr><td>                 </td><td>3 elements                                                                                                         </td></tr>\n",
       "</tbody>\n",
       "</table></div>"
      ],
      "text/plain": [
       "id                 value\n",
       "-----------------  -------------------------------------------------------------------------------------------------------------------\n",
       "SH.ALC.PCAP.FE.LI  Total alcohol consumption per capita, female (liters of pure alcohol, projected estimates, female 15+ years of age)\n",
       "SH.ALC.PCAP.LI     Total alcohol consumption per capita (liters of pure alcohol, projected estimates, 15+ years of age)\n",
       "SH.ALC.PCAP.MA.LI  Total alcohol consumption per capita, male (liters of pure alcohol, projected estimates, male 15+ years of age)\n",
       "                   3 elements"
      ]
     },
     "execution_count": 4,
     "metadata": {},
     "output_type": "execute_result"
    }
   ],
   "source": [
    "# search available series\n",
    "wb.series.info(q='alcohol')"
   ]
  },
  {
   "cell_type": "markdown",
   "id": "fc26563e-c538-45a1-83dd-9649a6cee3cf",
   "metadata": {},
   "source": [
    "## Help functions for the DataFrame data"
   ]
  },
  {
   "cell_type": "code",
   "execution_count": 5,
   "id": "40932674-27d9-4088-acda-bcc143a11722",
   "metadata": {},
   "outputs": [],
   "source": [
    "def merge2dfs(df1, df2, on, verbose=1):\n",
    "    out = df1.merge(df2, on=on)\n",
    "    if verbose:\n",
    "        print('Discarded from df2:', set(df1[on]) - (set(out[on])))\n",
    "    return out\n",
    "\n",
    "## filter countries from other economic units\n",
    "def filter_years(data_ID, iso_df, number_years=5, verbose=1):\n",
    "    \"\"\"Gets DF from WB by data_ID for the last\n",
    "    number_years. goes column by column and:\n",
    "        1. filters valid country ISO codes.\n",
    "        2. count valid values and tracks which year has\n",
    "            the most valid values\n",
    "\n",
    "    Args:\n",
    "        data_ID (str): WB series ID\n",
    "        iso_df (pd.DataFrame): DF of valid country isocodes\n",
    "        number_years (int, optional): number of year columns in the WB dataframe.\n",
    "            Defaults to 5.\n",
    "    Returns:\n",
    "        out (pd.DataFrame): first is economy column (country 3 letter isocode),\n",
    "            second is year data, containing max valid values.\n",
    "        \n",
    "    \"\"\"\n",
    "    # query data from WB\n",
    "    df = wb.data.DataFrame(data_ID, labels=True, mrv=number_years).reset_index()\n",
    "\n",
    "    # keep only data for independet countries only\n",
    "    df = df[df['economy'].isin(iso_df['economy'])].reset_index()\n",
    "\n",
    "    # list of nans per column\n",
    "    lista = list(df[df.columns[-number_years:]].select_dtypes(include='number').isna().sum())\n",
    "    # lista = list(df.isna().sum())\n",
    "    # taking care of datasets with less incomming columns than number_years\n",
    "    # short version of this code is just number_years = len(lista), because it is either the same\n",
    "    # meaning no change, or different and number_years is getting changes.\n",
    "    if len(lista) != number_years:\n",
    "        # print(f'received only {len(lista)} columns, setting number_years accordingly')\n",
    "        number_years = len(lista)\n",
    "\n",
    "    # minimal value for last `number_years columns`\n",
    "    # TODO: invert list in order to find minimum which is in the newest data, if two minima are the same\n",
    "    min_nans = int(min(lista[-number_years:]))\n",
    "    # ::-1 just a bad trick to get index of the last minima (want the most recent datasets, if two minima are the same)\n",
    "    idx = lista[-number_years:][::-1].index(min_nans)\n",
    "\n",
    "    # print output controlled by verbose function argument, you can see it quite often\n",
    "    if verbose:\n",
    "        print(data_ID, '-- best data collections year:', df.columns[-1-idx], '-- # nans:', min_nans)\n",
    "\n",
    "    # get the best column\n",
    "    s = df.columns[-1 - idx]\n",
    "    # create a resulting DF\n",
    "    out = df[['economy', s]]\n",
    "\n",
    "    # rename the year column to data_ID:year\n",
    "    out = out.rename(columns={s: data_ID + '.' + s[-4:]})\n",
    "    return  out, min_nans"
   ]
  },
  {
   "cell_type": "markdown",
   "id": "932d7146-c421-432a-9224-fd087f7969ee",
   "metadata": {},
   "source": [
    "## setting up"
   ]
  },
  {
   "cell_type": "code",
   "execution_count": 6,
   "id": "d5839b0b-b96d-4f43-bf70-19dc3675c254",
   "metadata": {},
   "outputs": [],
   "source": [
    "# Get isocodes and continent information for every country\n",
    "country_codes = read_datapackage(\"https://github.com/datasets/country-codes\")\n",
    "iso_df = country_codes[country_codes['is_independent']=='Yes'][['ISO3166-1-Alpha-3', 'Continent', 'Sub-region Name', 'CLDR display name']]\n",
    "iso_df.rename(columns={'ISO3166-1-Alpha-3': 'economy'}, inplace=True)\n",
    "\n",
    "# if you have geopandas, you can get geographical information too\n",
    "# geo_countries = read_datapackage(\"https://github.com/datasets/geo-countries\")"
   ]
  },
  {
   "cell_type": "markdown",
   "id": "6bce7cd6-20a2-4cd0-80ba-ef09588e3644",
   "metadata": {},
   "source": [
    "## Get the full DF"
   ]
  },
  {
   "cell_type": "code",
   "execution_count": 7,
   "id": "0f192484-a51d-4834-8c7b-d2954597645b",
   "metadata": {},
   "outputs": [
    {
     "name": "stdout",
     "output_type": "stream",
     "text": [
      "SH.ALC.PCAP.LI -- best data collections year: YR2019 -- # nans: 6\n"
     ]
    }
   ],
   "source": [
    "# get only alcohol dataset\n",
    "df_target, _ = filter_years('SH.ALC.PCAP.LI', iso_df, 2)"
   ]
  },
  {
   "cell_type": "code",
   "execution_count": 8,
   "id": "0a66b00b-1e99-42a0-8f7f-297ba4e92122",
   "metadata": {},
   "outputs": [],
   "source": [
    "# df_target.head()"
   ]
  },
  {
   "cell_type": "code",
   "execution_count": 9,
   "id": "8cd83340-ae90-4dde-9f2a-57130d465c4a",
   "metadata": {},
   "outputs": [
    {
     "data": {
      "text/plain": [
       "1486"
      ]
     },
     "execution_count": 9,
     "metadata": {},
     "output_type": "execute_result"
    }
   ],
   "source": [
    "# All 1430 dataset IDs\n",
    "all_data_lst = list(wb.series.list())\n",
    "len(all_data_lst)"
   ]
  },
  {
   "cell_type": "code",
   "execution_count": 10,
   "id": "b6d1a7a5-5a70-4e8e-890c-fe267ffba057",
   "metadata": {},
   "outputs": [],
   "source": [
    "try:\n",
    "    del df_full\n",
    "except:\n",
    "    pass\n",
    "\n",
    "sel_lst = []\n",
    "count_bad_datasets = 0\n",
    "# goes in steps of 10 through all available datasets (takes  7+ mins)\n",
    "# 1 iteration on my machine takes 3s, for 1400 dataset would take 75mins\n",
    "\n",
    "# alternatively you can comment out the forloop and load my result of this\n",
    "df_full = pd.read_csv('DP_good_datasets_all_th03.csv', index_col=0)\n",
    "# for i, el in tqdm(enumerate(all_data_lst)):  # tqdm used a lot in AI model training\n",
    "#     try:\n",
    "#         # some datasets throw errors, that is why I use try except\n",
    "#         df, nNans = filter_years(el['id'], iso_df, number_years=5, verbose=0)\n",
    "#         # print(el['id'], df.isna().sum(), df.corrwith(df_target['SH.ALC.PCAP.LI.2010'], axis=0, numeric_only=True))\n",
    "\n",
    "#         # correlation value of dataset with alcohol consumption\n",
    "#         corr = abs(df.corrwith(df_target['SH.ALC.PCAP.LI.2019'], axis=0, numeric_only=True).iloc[0])\n",
    "#     except Exception as e:\n",
    "#         print('Incomming dataset problem:', e)\n",
    "#         count_bad_datasets += 1\n",
    "#         continue\n",
    "#     if nNans < 5 and corr > 0.3: # tolerate only small amount of nans\n",
    "#         try:\n",
    "#             df_full = merge2dfs(df_full, df, on='economy', verbose=0)\n",
    "#         except:\n",
    "#             df_full = merge2dfs(iso_df, df, on='economy', verbose=0)   \n",
    "#         print(f'Taking ({el[\"id\"]}), valid values: {int(df.describe().iat[0, -1])}, corr: {corr}')\n",
    "#         sel_lst.append(el)"
   ]
  },
  {
   "cell_type": "code",
   "execution_count": 11,
   "id": "5d4110fb-0d01-4561-a563-8843d80fc398",
   "metadata": {},
   "outputs": [],
   "source": [
    "## show correlations\n",
    "# df_full.head()"
   ]
  },
  {
   "cell_type": "code",
   "execution_count": 12,
   "id": "9d62c277-81a3-46c8-bc3e-486e23d0087c",
   "metadata": {},
   "outputs": [],
   "source": [
    "# save the df_full\n",
    "# df_full.to_csv('DP_good_datasets_all_th03.csv')"
   ]
  },
  {
   "cell_type": "code",
   "execution_count": 13,
   "id": "1b585194-3f0e-4a04-b6a1-9baff80a2e9f",
   "metadata": {},
   "outputs": [],
   "source": [
    "# remove countries with any nans \n",
    "df = df_full[-df_full.isnull().any(axis=1)]\n",
    "df_target = df_target[-df_target.isnull().any(axis=1)]\n",
    "# df.head()"
   ]
  },
  {
   "cell_type": "code",
   "execution_count": 14,
   "id": "b2003208-b1e5-40e3-ad3b-a3df96280d1f",
   "metadata": {},
   "outputs": [],
   "source": [
    "# merge target onto the df\n",
    "df = df.merge(df_target, on='economy')\n",
    "# df.head()"
   ]
  },
  {
   "cell_type": "markdown",
   "id": "fb18331d-1513-495c-875c-3a1952a62236",
   "metadata": {},
   "source": [
    "### TASK: Visualize the correlation matrix"
   ]
  },
  {
   "cell_type": "code",
   "execution_count": 15,
   "id": "0beda96c-5408-447b-b943-2c032bf46ac4",
   "metadata": {},
   "outputs": [],
   "source": [
    "corr = df.corr(numeric_only=True)\n",
    "# corr"
   ]
  },
  {
   "cell_type": "code",
   "execution_count": 16,
   "id": "e25042b2-ceb5-4019-b8b5-eafa2f6e1233",
   "metadata": {},
   "outputs": [
    {
     "data": {
      "image/png": "[encoded data removed]",
      "text/plain": [
       "<Figure size 800x800 with 2 Axes>"
      ]
     },
     "metadata": {},
     "output_type": "display_data"
    }
   ],
   "source": [
    "# mask for the upper triangle\n",
    "import matplotlib.patches as p\n",
    "mask = np.triu(np.ones_like(corr, dtype=bool))\n",
    "\n",
    "# matplotlib figure settings\n",
    "f, ax = plt.subplots(figsize=(8, 8))\n",
    "\n",
    "# colormap settings\n",
    "cmap = sns.diverging_palette(230, 20, as_cmap=True)\n",
    "\n",
    "# creates the heatmap\n",
    "sns.heatmap(corr, mask=mask, cmap=cmap, yticklabels=False,  xticklabels=False)\n",
    "plt.title('Correlation matrix of 101 features')\n",
    "rect = p.Rectangle((0, 101), 101, 0.9, color='k', fill=False, in_layout=False)\n",
    "ax.add_patch(rect)\n",
    "ax.text(95, 105, 'Target', fontsize='large')\n",
    "plt.savefig('figs\\\\corr_heatmap.png', dpi=180)\n",
    "plt.show()"
   ]
  },
  {
   "cell_type": "code",
   "execution_count": 17,
   "id": "4ae0148a-5797-4648-9000-0990a46b6018",
   "metadata": {},
   "outputs": [],
   "source": [
    "df18 = df[['economy', 'Continent', 'Sub-region Name',\n",
    "         'CLDR display name', 'CC.EST.2022', 'EG.CFT.ACCS.ZS.2021', 'EN.ATM.PM25.MC.M3.2019',\n",
    "         'ER.PTD.TOTL.ZS.2022', 'GE.PER.RNK.LOWER.2022', 'IT.NET.SECR.P6.2020',\n",
    "          'NY.GDP.TOTL.RT.ZS.2018', 'RQ.PER.RNK.2022', 'SG.GEN.PARL.ZS.2019',\n",
    "          'SH.PRG.ANEM.2019', 'SH.STA.DIAB.ZS.2021', 'SP.DYN.CDRT.IN.2018',\n",
    "          'SP.POP.2024.MA.5Y.2022', 'SP.POP.80UP.FE.5Y.2022', 'TM.VAL.MRCH.HI.ZS.2020',\n",
    "          'TX.VAL.MRCH.HI.ZS.2020', 'VA.EST.2022', 'SH.ALC.PCAP.LI.2019',\n",
    "        ]]"
   ]
  },
  {
   "cell_type": "code",
   "execution_count": 18,
   "id": "6f2bc269-2b1b-4c68-a79f-418a836d4dc8",
   "metadata": {},
   "outputs": [],
   "source": [
    "# example feature vs alcohol cons plot\n",
    "# sns.scatterplot(data=df, x=\"CC.EST.2022\", y='SH.ALC.PCAP.LI.2019')\n",
    "# plt.show()"
   ]
  },
  {
   "cell_type": "markdown",
   "id": "155aebd6-35b2-4649-97e0-0b948393aa71",
   "metadata": {},
   "source": [
    "## Regression on the whole set of features (use df), or subset (use df18)\n",
    "* illustrative comparison for changing number of features for the linear regression"
   ]
  },
  {
   "cell_type": "code",
   "execution_count": 19,
   "id": "e0315d6b-5517-49dc-9a8c-626350ba7863",
   "metadata": {},
   "outputs": [],
   "source": [
    "# use one, comment out the other\n",
    "DF = df.copy()  # all 101 features\n",
    "# DF = df18.copy()  # subset of 18 features"
   ]
  },
  {
   "cell_type": "code",
   "execution_count": 20,
   "id": "9ff46036-62ed-4fb0-901f-813864915b10",
   "metadata": {},
   "outputs": [],
   "source": [
    "def plotRegResult(df_test, y_train, y_train_pred, r2_test=None, r2_train=None):\n",
    "    fig, ax = plt.subplots(1, 2, sharey=True, figsize=(12, 6))\n",
    "    sns.scatterplot(ax=ax[0], x=df_test['SH.ALC.PCAP.LI.2019'], y=df_test['y_pred'], hue=df_test['Continent'], )#hue='Sub-region Name')\n",
    "    # fig.legend(loc='right', bbox_to_anchor=(1.25, 0.5), ncol=1)\n",
    "    ax[0].plot(range(15), range(15), 'k')\n",
    "    ax[0].title.set_text(f'Test: r2={r2_test:0.2f}')\n",
    "\n",
    "    sns.scatterplot(ax=ax[1], x=y_train, y=y_train_pred)#hue='Sub-region Name')\n",
    "    ax[1].title.set_text(f'Train: r2={r2_train:0.2f}')\n",
    "    # fig.legend(loc='right', bbox_to_anchor=(1.25, 0.5), ncol=1)\n",
    "    plt.plot(range(15), range(15), 'k')\n",
    "    plt.show()\n",
    "\n",
    "def runRegression(DF, test_size=0.2):\n",
    "    # split data into training and testing set\n",
    "    X_train, X_test, y_train, y_test = sklearn.model_selection.train_test_split(DF[DF.columns[4:-1]], DF[DF.columns[-1]],\n",
    "                                                                            test_size=test_size, random_state=42)\n",
    "    # scaling data, standard step, but does matter here.\n",
    "    # scaler = sklearn.preprocessing.StandardScaler()\n",
    "    # X_train = scaler.fit_transform(X_train)\n",
    "\n",
    "    # fit the model\n",
    "    reg = sklearn.linear_model.LinearRegression()\n",
    "    reg.fit(X_train, y_train)\n",
    "\n",
    "    # predict from model, input is only X_test, y_pred should be close to y_test, wchich is so-called ground truth\n",
    "    y_pred = reg.predict(X_test)\n",
    "    # making it into a series with correct index\n",
    "    sy_pred = pd.Series(y_pred, index=X_test.index, name='y_pred')\n",
    "    \n",
    "    # merge predictions on test DF\n",
    "    df_test = df.merge(sy_pred, left_index=True, right_index=True)\n",
    "    df_test = df_test.merge(X_test)\n",
    "    r2_test = sklearn.metrics.r2_score(y_true=df_test['SH.ALC.PCAP.LI.2019'],\n",
    "                                       y_pred=df_test['y_pred'],\n",
    "                                       sample_weight=None)\n",
    "    \n",
    "    # Train predictions\n",
    "    # predict from model, input is only X_test, y_pred should be close to y_test, wchich is so-called ground truth\n",
    "    y_train_pred = reg.predict(X_train)\n",
    "    # making it into a series with correct index\n",
    "    sy_train_pred = pd.Series(y_train_pred, index=X_train.index, name='y_train_pred')\n",
    "    r2_train = sklearn.metrics.r2_score(y_true=y_train,\n",
    "                                        y_pred=y_train_pred,\n",
    "                                        sample_weight=None)\n",
    "\n",
    "    return df_test, y_train, y_train_pred, r2_test, r2_train, X_train, X_test, y_train, y_test"
   ]
  },
  {
   "cell_type": "code",
   "execution_count": 24,
   "id": "f3af3d90-1ca3-4d3d-8f11-f0226eb59858",
   "metadata": {},
   "outputs": [],
   "source": [
    "# df_test, y_train, y_train_pred, r2_test, r2_train, *_ = runRegression(DF)\n",
    "df_test, y_train, y_train_pred, r2_test, r2_train, X_train, X_test, y_train, y_test = runRegression(DF)"
   ]
  },
  {
   "cell_type": "code",
   "execution_count": 25,
   "id": "ff89db24-dd06-4b63-a845-6a1c82dea7cb",
   "metadata": {},
   "outputs": [
    {
     "data": {
      "image/png": "[encoded data removed]",
      "text/plain": [
       "<Figure size 1200x600 with 2 Axes>"
      ]
     },
     "metadata": {},
     "output_type": "display_data"
    }
   ],
   "source": [
    "# This is where you can see the comparison between the two models.\n",
    "plotRegResult(df_test, y_train, y_train_pred, r2_test, r2_train)"
   ]
  },
  {
   "cell_type": "markdown",
   "id": "c36b9819-71c8-445a-9172-71080b1fcdff",
   "metadata": {},
   "source": [
    "## Ready for 02/02"
   ]
  },
  {
   "cell_type": "code",
   "execution_count": 26,
   "id": "b9c59333-5094-4af0-b884-70efd8b028d4",
   "metadata": {},
   "outputs": [],
   "source": [
    "from sklearn.feature_selection import SelectKBest, chi2\n",
    "from sklearn.feature_selection import f_classif, r_regression\n",
    "\n",
    "selector = SelectKBest(r_regression, k=2)\n",
    "X_new = selector.fit_transform(X_train, y_train)"
   ]
  },
  {
   "cell_type": "code",
   "execution_count": 27,
   "id": "a4546e47-d6e8-472e-bbd5-399815eb8050",
   "metadata": {},
   "outputs": [
    {
     "data": {
      "text/plain": [
       "(122, 2)"
      ]
     },
     "execution_count": 27,
     "metadata": {},
     "output_type": "execute_result"
    }
   ],
   "source": [
    "X_new.shape"
   ]
  },
  {
   "cell_type": "code",
   "execution_count": 28,
   "id": "16459914-9af4-4d57-a8cf-8a1afb14032f",
   "metadata": {},
   "outputs": [
    {
     "data": {
      "text/plain": [
       "array(['SP.POP.65UP.FE.ZS.2022', 'SP.POP.80UP.FE.5Y.2022'], dtype=object)"
      ]
     },
     "execution_count": 28,
     "metadata": {},
     "output_type": "execute_result"
    }
   ],
   "source": [
    "selector.get_feature_names_out()"
   ]
  },
  {
   "cell_type": "markdown",
   "id": "1189b38e-0bd5-49da-b17c-db6f81c96449",
   "metadata": {},
   "source": [
    "### TASK: Create a loop to Fit regression for increasing k and evaluate r2 score"
   ]
  },
  {
   "cell_type": "code",
   "execution_count": null,
   "id": "dd9887f0-3b9b-41fd-b2f1-6c67a5b4e02d",
   "metadata": {},
   "outputs": [],
   "source": [
    "X_train, X_test = X_train[selector.get_feature_names_out()], X_test[selector.get_feature_names_out()]"
   ]
  },
  {
   "cell_type": "code",
   "execution_count": null,
   "id": "bfc960e5-9349-4450-b403-889848b15f0a",
   "metadata": {},
   "outputs": [],
   "source": [
    "reg = sklearn.linear_model.LinearRegression()\n",
    "reg.fit(X_train, y_train)"
   ]
  },
  {
   "cell_type": "markdown",
   "id": "9b60ce8b-507b-4cd9-8a55-8742b9c8e68c",
   "metadata": {},
   "source": [
    "### We have seen that continent itself might be a good predictor\n",
    "* TASK: look into how to create a categorical feature out of continent values."
   ]
  },
  {
   "cell_type": "code",
   "execution_count": null,
   "id": "5345c7b3-fa36-457c-a684-1c0305abc550",
   "metadata": {},
   "outputs": [],
   "source": []
  }
 ],
 "metadata": {
  "kernelspec": {
   "display_name": "pyualg",
   "language": "python",
   "name": "pyualg"
  },
  "language_info": {
   "codemirror_mode": {
    "name": "ipython",
    "version": 3
   },
   "file_extension": ".py",
   "mimetype": "text/x-python",
   "name": "python",
   "nbconvert_exporter": "python",
   "pygments_lexer": "ipython3",
   "version": "3.11.5"
  }
 },
 "nbformat": 4,
 "nbformat_minor": 5
}
