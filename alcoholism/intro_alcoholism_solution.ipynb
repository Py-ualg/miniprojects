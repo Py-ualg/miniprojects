{
 "cells": [
  {
   "cell_type": "markdown",
   "id": "ba96bab1-f0d9-4069-b163-9234158ee86d",
   "metadata": {},
   "source": [
    "## Coding sprint (15/12)\n",
    "## Task:\n",
    "Predict 'Total alcohol consumption per capita (liters of pure alcohol, projected estimates, 15+ years of age)' from other World development indicators\n",
    "https://datacatalog.worldbank.org/home\n",
    "\n",
    "### Group 1\n",
    "https://pypi.org/project/wbgapi/\n",
    "1. Access world bank data via python API, wbgapi\n",
    "2. Get the alcohol indicator, and search other indicators (year 2019)\n",
    "3. Your final product is pandas DataFrame containing 10 relevant indicators of your choice\n",
    "\n",
    "### Group 2\n",
    "https://pandas.pydata.org/docs/reference/api/pandas.DataFrame.corr.html\n",
    "1. Your input is the DF from the above\n",
    "2. Solve the problem with missing values (what are you going to do? substitute, invent a value, ignore a country?)\n",
    "3. Find 5 best candidate predictors of the alcohol comsuption out of the 10 in the table\n",
    "\n",
    "### Group 3\n",
    "https://scikit-learn.org/stable/modules/generated/sklearn.linear_model.LinearRegression.html\n",
    "1. Your input is Dataframe with 5 predictors (features) and target alcohol column.\n",
    "2. Split the data into train and test.\n",
    "3. prepare a linear regression model (scikit learn LinearRegression()) to fit the data\n",
    "5. Find evaluation metrics of the model.\n",
    "6. Predict the test data. How is the performance between train and test?"
   ]
  },
  {
   "cell_type": "code",
   "execution_count": 1,
   "id": "9bb13a22-7e17-4462-84b5-a8010ed1b8db",
   "metadata": {},
   "outputs": [],
   "source": [
    "import wbgapi as wb\n",
    "import pandas as pd\n",
    "import seaborn as sns\n",
    "import matplotlib.pyplot as plt\n",
    "import sklearn\n",
    "from sklearn import model_selection\n",
    "from sklearn import linear_model"
   ]
  },
  {
   "cell_type": "code",
   "execution_count": 2,
   "id": "a07374c0-e373-4b11-b0d9-577ed9f5ce7d",
   "metadata": {},
   "outputs": [],
   "source": [
    "# help(wb.series)"
   ]
  },
  {
   "cell_type": "code",
   "execution_count": 3,
   "id": "00461d38-b512-4bd4-b174-e955504f0430",
   "metadata": {},
   "outputs": [
    {
     "data": {
      "text/html": [
       "<div class=\"wbgapi\"><h4>Series</h4><table>\n",
       "<thead>\n",
       "<tr><th>ID               </th><th>Name  </th><th>Field                           </th><th>Value                                                                                                                                                                 </th></tr>\n",
       "</thead>\n",
       "<tbody>\n",
       "<tr><td>EG.CFT.ACCS.RU.ZS</td><td>      </td><td>Statisticalconceptandmethodology</td><td>...fuels, electricity, as well as an aggregation of any other clean fuels like alcohol) are produced by aggregating estimates of relevant fuel types. The model was...</td></tr>\n",
       "<tr><td>EG.CFT.ACCS.UR.ZS</td><td>      </td><td>Statisticalconceptandmethodology</td><td>...fuels, electricity, as well as an aggregation of any other clean fuels like alcohol) are produced by aggregating estimates of relevant fuel types. The model was...</td></tr>\n",
       "<tr><td>EG.CFT.ACCS.ZS   </td><td>      </td><td>Statisticalconceptandmethodology</td><td>...fuels, electricity, as well as an aggregation of any other clean fuels like alcohol) are produced by aggregating estimates of relevant fuel types. The model was...</td></tr>\n",
       "<tr><td>SH.ALC.PCAP.FE.LI</td><td>      </td><td>Developmentrelevance            </td><td>...Acoording to the World Health Organization, alcohol consumption is a causal factor in more than 200 disease and injury conditions....                              </td></tr>\n",
       "<tr><td>SH.ALC.PCAP.FE.LI</td><td>      </td><td>IndicatorName                   </td><td>Total alcohol consumption per capita, female (liters of pure alcohol, projected estimates, female 15+ years of age)                                                   </td></tr>\n",
       "<tr><td>SH.ALC.PCAP.FE.LI</td><td>      </td><td>Longdefinition                  </td><td>...Total alcohol per capita consumption is defined as the total (sum of recorded and unrecorded...                                                                    </td></tr>\n",
       "<tr><td>SH.ALC.PCAP.FE.LI</td><td>      </td><td>Statisticalconceptandmethodology</td><td>...The estimates for the total alcohol consumption are produced by summing up the 3-year average per capita (15+)...                                                  </td></tr>\n",
       "<tr><td>SH.ALC.PCAP.LI   </td><td>      </td><td>Developmentrelevance            </td><td>...Acoording to the World Health Organization, alcohol consumption is a causal factor in more than 200 disease and injury conditions....                              </td></tr>\n",
       "<tr><td>SH.ALC.PCAP.LI   </td><td>      </td><td>IndicatorName                   </td><td>Total alcohol consumption per capita (liters of pure alcohol, projected estimates, 15+ years of age)                                                                  </td></tr>\n",
       "<tr><td>SH.ALC.PCAP.LI   </td><td>      </td><td>Longdefinition                  </td><td>...Total alcohol per capita consumption is defined as the total (sum of recorded and unrecorded...                                                                    </td></tr>\n",
       "<tr><td>SH.ALC.PCAP.LI   </td><td>      </td><td>Statisticalconceptandmethodology</td><td>...The estimates for the total alcohol consumption are produced by summing up the 3-year average per capita (15+)...                                                  </td></tr>\n",
       "<tr><td>SH.ALC.PCAP.MA.LI</td><td>      </td><td>Developmentrelevance            </td><td>...Acoording to the World Health Organization, alcohol consumption is a causal factor in more than 200 disease and injury conditions....                              </td></tr>\n",
       "<tr><td>SH.ALC.PCAP.MA.LI</td><td>      </td><td>IndicatorName                   </td><td>Total alcohol consumption per capita, male (liters of pure alcohol, projected estimates, male 15+ years of age)                                                       </td></tr>\n",
       "<tr><td>SH.ALC.PCAP.MA.LI</td><td>      </td><td>Longdefinition                  </td><td>...Total alcohol per capita consumption is defined as the total (sum of recorded and unrecorded...                                                                    </td></tr>\n",
       "<tr><td>SH.ALC.PCAP.MA.LI</td><td>      </td><td>Statisticalconceptandmethodology</td><td>...The estimates for the total alcohol consumption are produced by summing up the 3-year average per capita (15+)...                                                  </td></tr>\n",
       "</tbody>\n",
       "</table></div>"
      ],
      "text/plain": [
       "========\n",
       "Series: EG.CFT.ACCS.RU.ZS\n",
       "\n",
       "Statisticalconceptandmethodology: ...fuels, electricity, as well as an aggregation of any other clean fuels like alcohol) are produced by aggregating estimates of relevant fuel types. The model was...\n",
       "========\n",
       "Series: EG.CFT.ACCS.UR.ZS\n",
       "\n",
       "Statisticalconceptandmethodology: ...fuels, electricity, as well as an aggregation of any other clean fuels like alcohol) are produced by aggregating estimates of relevant fuel types. The model was...\n",
       "========\n",
       "Series: EG.CFT.ACCS.ZS\n",
       "\n",
       "Statisticalconceptandmethodology: ...fuels, electricity, as well as an aggregation of any other clean fuels like alcohol) are produced by aggregating estimates of relevant fuel types. The model was...\n",
       "========\n",
       "Series: SH.ALC.PCAP.FE.LI\n",
       "\n",
       "Developmentrelevance: ...Acoording to the World Health Organization, alcohol consumption is a causal factor in more than 200 disease and injury conditions....\n",
       "--------\n",
       "IndicatorName: Total alcohol consumption per capita, female (liters of pure alcohol, projected estimates, female 15+ years of age)\n",
       "--------\n",
       "Longdefinition: ...Total alcohol per capita consumption is defined as the total (sum of recorded and unrecorded...\n",
       "--------\n",
       "Statisticalconceptandmethodology: ...The estimates for the total alcohol consumption are produced by summing up the 3-year average per capita (15+)...\n",
       "========\n",
       "Series: SH.ALC.PCAP.LI\n",
       "\n",
       "Developmentrelevance: ...Acoording to the World Health Organization, alcohol consumption is a causal factor in more than 200 disease and injury conditions....\n",
       "--------\n",
       "IndicatorName: Total alcohol consumption per capita (liters of pure alcohol, projected estimates, 15+ years of age)\n",
       "--------\n",
       "Longdefinition: ...Total alcohol per capita consumption is defined as the total (sum of recorded and unrecorded...\n",
       "--------\n",
       "Statisticalconceptandmethodology: ...The estimates for the total alcohol consumption are produced by summing up the 3-year average per capita (15+)...\n",
       "========\n",
       "Series: SH.ALC.PCAP.MA.LI\n",
       "\n",
       "Developmentrelevance: ...Acoording to the World Health Organization, alcohol consumption is a causal factor in more than 200 disease and injury conditions....\n",
       "--------\n",
       "IndicatorName: Total alcohol consumption per capita, male (liters of pure alcohol, projected estimates, male 15+ years of age)\n",
       "--------\n",
       "Longdefinition: ...Total alcohol per capita consumption is defined as the total (sum of recorded and unrecorded...\n",
       "--------\n",
       "Statisticalconceptandmethodology: ...The estimates for the total alcohol consumption are produced by summing up the 3-year average per capita (15+)..."
      ]
     },
     "execution_count": 3,
     "metadata": {},
     "output_type": "execute_result"
    }
   ],
   "source": [
    "wb.search('alcohol')"
   ]
  },
  {
   "cell_type": "code",
   "execution_count": 6,
   "id": "ccbcceda-6691-4b01-a94d-cf1cdc6b7114",
   "metadata": {},
   "outputs": [
    {
     "data": {
      "text/html": [
       "<div class=\"wbgapi\"><table>\n",
       "<thead>\n",
       "<tr><th>id               </th><th>value                                                                                                              </th></tr>\n",
       "</thead>\n",
       "<tbody>\n",
       "<tr><td>SH.ALC.PCAP.FE.LI</td><td>Total alcohol consumption per capita, female (liters of pure alcohol, projected estimates, female 15+ years of age)</td></tr>\n",
       "<tr><td>SH.ALC.PCAP.LI   </td><td>Total alcohol consumption per capita (liters of pure alcohol, projected estimates, 15+ years of age)               </td></tr>\n",
       "<tr><td>SH.ALC.PCAP.MA.LI</td><td>Total alcohol consumption per capita, male (liters of pure alcohol, projected estimates, male 15+ years of age)    </td></tr>\n",
       "<tr><td>                 </td><td>3 elements                                                                                                         </td></tr>\n",
       "</tbody>\n",
       "</table></div>"
      ],
      "text/plain": [
       "id                 value\n",
       "-----------------  -------------------------------------------------------------------------------------------------------------------\n",
       "SH.ALC.PCAP.FE.LI  Total alcohol consumption per capita, female (liters of pure alcohol, projected estimates, female 15+ years of age)\n",
       "SH.ALC.PCAP.LI     Total alcohol consumption per capita (liters of pure alcohol, projected estimates, 15+ years of age)\n",
       "SH.ALC.PCAP.MA.LI  Total alcohol consumption per capita, male (liters of pure alcohol, projected estimates, male 15+ years of age)\n",
       "                   3 elements"
      ]
     },
     "execution_count": 6,
     "metadata": {},
     "output_type": "execute_result"
    }
   ],
   "source": [
    "wb.series.info(q='alcohol')"
   ]
  },
  {
   "cell_type": "code",
   "execution_count": 9,
   "id": "220f700b-2307-4e9c-a90d-eecc08a22a6b",
   "metadata": {},
   "outputs": [
    {
     "data": {
      "text/plain": [
       "{'economy': {'key': 'country', 'value': 'Country'},\n",
       " 'series': {'key': 'series', 'value': 'Series'},\n",
       " 'time': {'key': 'time', 'value': 'Time'},\n",
       " 'version': {'key': 'version', 'value': 'Version'}}"
      ]
     },
     "execution_count": 9,
     "metadata": {},
     "output_type": "execute_result"
    }
   ],
   "source": [
    "wb.source.concepts(db=57)"
   ]
  },
  {
   "cell_type": "code",
   "execution_count": null,
   "id": "ccf55d9f-11a6-4e03-a4b6-22fba8186ac5",
   "metadata": {},
   "outputs": [],
   "source": [
    "# save indicators from worldbank in dataframe:\n",
    "# 'IQ.CPA.PROT.XQ'\n",
    "# 'SE.ADT.1524.LT.FE.ZS'\n",
    "# 'EN.ATM.CO2E.PC'\n",
    "# alcohol consumption: 'SH.ALC.PCAP.LI'\n",
    "df = wb.data.DataFrame(['IQ.CPA.PROT.XQ', 'SE.ADT.1524.LT.FE.ZS', 'EN.ATM.CO2E.PC', 'SH.ALC.PCAP.LI'], labels=False, mrv=5).reset_index()"
   ]
  },
  {
   "cell_type": "code",
   "execution_count": null,
   "id": "94d67c1c-d8b5-45e7-9867-05ea50ab6dfa",
   "metadata": {},
   "outputs": [],
   "source": [
    "def filter_wdi_years(data_id, number_years):\n",
    "    # gets the dataframe\n",
    "\n",
    "    # search column by column\n",
    "\n",
    "    # find column with most valid values#\n",
    "\n",
    "    return year"
   ]
  },
  {
   "cell_type": "code",
   "execution_count": 32,
   "id": "cd8e90f3-83bc-40b8-84f6-0d31f7085fed",
   "metadata": {},
   "outputs": [
    {
     "data": {
      "text/html": [
       "<div>\n",
       "<style scoped>\n",
       "    .dataframe tbody tr th:only-of-type {\n",
       "        vertical-align: middle;\n",
       "    }\n",
       "\n",
       "    .dataframe tbody tr th {\n",
       "        vertical-align: top;\n",
       "    }\n",
       "\n",
       "    .dataframe thead th {\n",
       "        text-align: right;\n",
       "    }\n",
       "</style>\n",
       "<table border=\"1\" class=\"dataframe\">\n",
       "  <thead>\n",
       "    <tr style=\"text-align: right;\">\n",
       "      <th></th>\n",
       "      <th>economy</th>\n",
       "      <th>series</th>\n",
       "      <th>YR2018</th>\n",
       "      <th>YR2019</th>\n",
       "      <th>YR2020</th>\n",
       "      <th>YR2021</th>\n",
       "      <th>YR2022</th>\n",
       "    </tr>\n",
       "  </thead>\n",
       "  <tbody>\n",
       "    <tr>\n",
       "      <th>0</th>\n",
       "      <td>ABW</td>\n",
       "      <td>EN.ATM.CO2E.PC</td>\n",
       "      <td>NaN</td>\n",
       "      <td>NaN</td>\n",
       "      <td>NaN</td>\n",
       "      <td>NaN</td>\n",
       "      <td>NaN</td>\n",
       "    </tr>\n",
       "    <tr>\n",
       "      <th>1</th>\n",
       "      <td>ABW</td>\n",
       "      <td>IQ.CPA.PROT.XQ</td>\n",
       "      <td>NaN</td>\n",
       "      <td>NaN</td>\n",
       "      <td>NaN</td>\n",
       "      <td>NaN</td>\n",
       "      <td>NaN</td>\n",
       "    </tr>\n",
       "    <tr>\n",
       "      <th>2</th>\n",
       "      <td>ABW</td>\n",
       "      <td>SE.ADT.1524.LT.FE.ZS</td>\n",
       "      <td>NaN</td>\n",
       "      <td>NaN</td>\n",
       "      <td>99.410004</td>\n",
       "      <td>NaN</td>\n",
       "      <td>NaN</td>\n",
       "    </tr>\n",
       "    <tr>\n",
       "      <th>3</th>\n",
       "      <td>ABW</td>\n",
       "      <td>SH.ALC.PCAP.LI</td>\n",
       "      <td>NaN</td>\n",
       "      <td>NaN</td>\n",
       "      <td>NaN</td>\n",
       "      <td>NaN</td>\n",
       "      <td>NaN</td>\n",
       "    </tr>\n",
       "    <tr>\n",
       "      <th>4</th>\n",
       "      <td>AFE</td>\n",
       "      <td>EN.ATM.CO2E.PC</td>\n",
       "      <td>0.921453</td>\n",
       "      <td>0.915294</td>\n",
       "      <td>0.795420</td>\n",
       "      <td>NaN</td>\n",
       "      <td>NaN</td>\n",
       "    </tr>\n",
       "  </tbody>\n",
       "</table>\n",
       "</div>"
      ],
      "text/plain": [
       "  economy                series    YR2018    YR2019     YR2020  YR2021  YR2022\n",
       "0     ABW        EN.ATM.CO2E.PC       NaN       NaN        NaN     NaN     NaN\n",
       "1     ABW        IQ.CPA.PROT.XQ       NaN       NaN        NaN     NaN     NaN\n",
       "2     ABW  SE.ADT.1524.LT.FE.ZS       NaN       NaN  99.410004     NaN     NaN\n",
       "3     ABW        SH.ALC.PCAP.LI       NaN       NaN        NaN     NaN     NaN\n",
       "4     AFE        EN.ATM.CO2E.PC  0.921453  0.915294   0.795420     NaN     NaN"
      ]
     },
     "execution_count": 32,
     "metadata": {},
     "output_type": "execute_result"
    }
   ],
   "source": [
    "# show the dataframe\n",
    "df.head()"
   ]
  },
  {
   "cell_type": "code",
   "execution_count": 33,
   "id": "bb1f67d4-a203-4465-bd2b-eb173b67f302",
   "metadata": {},
   "outputs": [],
   "source": [
    "data_sets = wb.series.info()"
   ]
  },
  {
   "cell_type": "code",
   "execution_count": 34,
   "id": "b5f19d89-570d-43a8-8612-ca5ccfea25b4",
   "metadata": {},
   "outputs": [],
   "source": [
    "df = wb.data.DataFrame('IQ.CPA.PROT.XQ', labels=False, mrv=5).reset_index()"
   ]
  },
  {
   "cell_type": "code",
   "execution_count": 36,
   "id": "192374c1-af21-41e2-aecd-e89a1d5a4823",
   "metadata": {},
   "outputs": [
    {
     "data": {
      "text/html": [
       "<div>\n",
       "<style scoped>\n",
       "    .dataframe tbody tr th:only-of-type {\n",
       "        vertical-align: middle;\n",
       "    }\n",
       "\n",
       "    .dataframe tbody tr th {\n",
       "        vertical-align: top;\n",
       "    }\n",
       "\n",
       "    .dataframe thead th {\n",
       "        text-align: right;\n",
       "    }\n",
       "</style>\n",
       "<table border=\"1\" class=\"dataframe\">\n",
       "  <thead>\n",
       "    <tr style=\"text-align: right;\">\n",
       "      <th></th>\n",
       "      <th>economy</th>\n",
       "      <th>YR2018</th>\n",
       "      <th>YR2019</th>\n",
       "      <th>YR2020</th>\n",
       "      <th>YR2021</th>\n",
       "      <th>YR2022</th>\n",
       "    </tr>\n",
       "  </thead>\n",
       "  <tbody>\n",
       "    <tr>\n",
       "      <th>0</th>\n",
       "      <td>ABW</td>\n",
       "      <td>NaN</td>\n",
       "      <td>NaN</td>\n",
       "      <td>NaN</td>\n",
       "      <td>NaN</td>\n",
       "      <td>NaN</td>\n",
       "    </tr>\n",
       "    <tr>\n",
       "      <th>1</th>\n",
       "      <td>AFE</td>\n",
       "      <td>2.916667</td>\n",
       "      <td>2.868421</td>\n",
       "      <td>2.894737</td>\n",
       "      <td>2.947368</td>\n",
       "      <td>2.947368</td>\n",
       "    </tr>\n",
       "    <tr>\n",
       "      <th>2</th>\n",
       "      <td>AFG</td>\n",
       "      <td>2.500000</td>\n",
       "      <td>2.500000</td>\n",
       "      <td>2.500000</td>\n",
       "      <td>NaN</td>\n",
       "      <td>1.500000</td>\n",
       "    </tr>\n",
       "    <tr>\n",
       "      <th>3</th>\n",
       "      <td>AFW</td>\n",
       "      <td>2.975000</td>\n",
       "      <td>2.975000</td>\n",
       "      <td>3.025000</td>\n",
       "      <td>3.050000</td>\n",
       "      <td>3.100000</td>\n",
       "    </tr>\n",
       "    <tr>\n",
       "      <th>4</th>\n",
       "      <td>AGO</td>\n",
       "      <td>NaN</td>\n",
       "      <td>NaN</td>\n",
       "      <td>NaN</td>\n",
       "      <td>NaN</td>\n",
       "      <td>NaN</td>\n",
       "    </tr>\n",
       "  </tbody>\n",
       "</table>\n",
       "</div>"
      ],
      "text/plain": [
       "  economy    YR2018    YR2019    YR2020    YR2021    YR2022\n",
       "0     ABW       NaN       NaN       NaN       NaN       NaN\n",
       "1     AFE  2.916667  2.868421  2.894737  2.947368  2.947368\n",
       "2     AFG  2.500000  2.500000  2.500000       NaN  1.500000\n",
       "3     AFW  2.975000  2.975000  3.025000  3.050000  3.100000\n",
       "4     AGO       NaN       NaN       NaN       NaN       NaN"
      ]
     },
     "execution_count": 36,
     "metadata": {},
     "output_type": "execute_result"
    }
   ],
   "source": [
    "df.head()"
   ]
  },
  {
   "cell_type": "code",
   "execution_count": 47,
   "id": "2ea205fc-9995-4ac1-b520-238643a19731",
   "metadata": {},
   "outputs": [
    {
     "data": {
      "text/plain": [
       "151"
      ]
     },
     "execution_count": 47,
     "metadata": {},
     "output_type": "execute_result"
    }
   ],
   "source": [
    "df[df.columns[-1]].isna().sum()"
   ]
  },
  {
   "cell_type": "code",
   "execution_count": 53,
   "id": "8af72e07-4117-4dd9-a8e7-0e17287c9347",
   "metadata": {},
   "outputs": [
    {
     "data": {
      "text/plain": [
       "pandas.core.series.Series"
      ]
     },
     "execution_count": 53,
     "metadata": {},
     "output_type": "execute_result"
    }
   ],
   "source": [
    "type(df.isna().sum())"
   ]
  },
  {
   "cell_type": "code",
   "execution_count": 54,
   "id": "a30545bf-025f-4b1f-987b-0cebb20be35f",
   "metadata": {},
   "outputs": [],
   "source": [
    "idx = df.isna().sum()[-5:].argmin()"
   ]
  },
  {
   "cell_type": "code",
   "execution_count": 55,
   "id": "e6f6d15f-ceb5-4ef4-a2bb-145b696ed514",
   "metadata": {},
   "outputs": [
    {
     "data": {
      "text/plain": [
       "'YR2018'"
      ]
     },
     "execution_count": 55,
     "metadata": {},
     "output_type": "execute_result"
    }
   ],
   "source": [
    "df.columns[idx]"
   ]
  },
  {
   "cell_type": "code",
   "execution_count": 41,
   "id": "8abb280b-525a-41b3-815d-abdbf512e6bb",
   "metadata": {},
   "outputs": [],
   "source": [
    "cols = [k for k in df.columns if k[:2]=='YR']"
   ]
  },
  {
   "cell_type": "code",
   "execution_count": 46,
   "id": "4e38e0d2-4648-4c59-bab0-e9187ce43b91",
   "metadata": {},
   "outputs": [
    {
     "name": "stdout",
     "output_type": "stream",
     "text": [
      "151\n",
      "149\n",
      "152\n",
      "153\n",
      "151\n"
     ]
    }
   ],
   "source": [
    "counter = 1e6\n",
    "for i, col in enumerate(cols):\n",
    "    if df[col].isna().sum() < counter:\n",
    "        idx = i\n",
    "    print(df[col].isna().sum())"
   ]
  },
  {
   "cell_type": "code",
   "execution_count": null,
   "id": "9f5cd9fd-5b92-42ee-8eb8-b9119ab76a19",
   "metadata": {},
   "outputs": [],
   "source": []
  },
  {
   "cell_type": "code",
   "execution_count": 44,
   "id": "58a00900-eb71-497b-a7ad-93e263686cd7",
   "metadata": {},
   "outputs": [
    {
     "data": {
      "text/plain": [
       "'YR2022'"
      ]
     },
     "execution_count": 44,
     "metadata": {},
     "output_type": "execute_result"
    }
   ],
   "source": [
    "cols[idx]"
   ]
  },
  {
   "cell_type": "code",
   "execution_count": 24,
   "id": "18ba92d2-828e-47ec-885b-49b70132999b",
   "metadata": {},
   "outputs": [
    {
     "ename": "TypeError",
     "evalue": "'Featureset' object is not subscriptable",
     "output_type": "error",
     "traceback": [
      "\u001b[1;31m---------------------------------------------------------------------------\u001b[0m",
      "\u001b[1;31mTypeError\u001b[0m                                 Traceback (most recent call last)",
      "Cell \u001b[1;32mIn[24], line 1\u001b[0m\n\u001b[1;32m----> 1\u001b[0m \u001b[43mdata_sets\u001b[49m\u001b[43m[\u001b[49m\u001b[38;5;124;43m'\u001b[39;49m\u001b[38;5;124;43mAG.AGR.TRAC.NO\u001b[39;49m\u001b[38;5;124;43m'\u001b[39;49m\u001b[43m]\u001b[49m\n",
      "\u001b[1;31mTypeError\u001b[0m: 'Featureset' object is not subscriptable"
     ]
    }
   ],
   "source": [
    "data_sets['AG.AGR.TRAC.NO']"
   ]
  },
  {
   "cell_type": "code",
   "execution_count": 30,
   "id": "1b585194-3f0e-4a04-b6a1-9baff80a2e9f",
   "metadata": {},
   "outputs": [
    {
     "data": {
      "text/html": [
       "<div>\n",
       "<style scoped>\n",
       "    .dataframe tbody tr th:only-of-type {\n",
       "        vertical-align: middle;\n",
       "    }\n",
       "\n",
       "    .dataframe tbody tr th {\n",
       "        vertical-align: top;\n",
       "    }\n",
       "\n",
       "    .dataframe thead th {\n",
       "        text-align: right;\n",
       "    }\n",
       "</style>\n",
       "<table border=\"1\" class=\"dataframe\">\n",
       "  <thead>\n",
       "    <tr style=\"text-align: right;\">\n",
       "      <th></th>\n",
       "      <th>economy</th>\n",
       "      <th>EN.ATM.CO2E.PC</th>\n",
       "      <th>IQ.CPA.PROT.XQ</th>\n",
       "      <th>SE.ADT.1524.LT.FE.ZS</th>\n",
       "      <th>SH.ALC.PCAP.LI</th>\n",
       "    </tr>\n",
       "  </thead>\n",
       "  <tbody>\n",
       "  </tbody>\n",
       "</table>\n",
       "</div>"
      ],
      "text/plain": [
       "Empty DataFrame\n",
       "Columns: [economy, EN.ATM.CO2E.PC, IQ.CPA.PROT.XQ, SE.ADT.1524.LT.FE.ZS, SH.ALC.PCAP.LI]\n",
       "Index: []"
      ]
     },
     "execution_count": 30,
     "metadata": {},
     "output_type": "execute_result"
    }
   ],
   "source": [
    "# clear missing data \n",
    "df = df[-df.isnull().any(axis=1)]\n",
    "# show the clean dataframe\n",
    "df"
   ]
  },
  {
   "cell_type": "code",
   "execution_count": 27,
   "id": "72b854dd-8210-4be7-aacc-15f6dce7ca90",
   "metadata": {},
   "outputs": [
    {
     "data": {
      "text/plain": [
       "58"
      ]
     },
     "execution_count": 27,
     "metadata": {},
     "output_type": "execute_result"
    }
   ],
   "source": [
    "len(df)"
   ]
  },
  {
   "cell_type": "code",
   "execution_count": 8,
   "id": "6f2bc269-2b1b-4c68-a79f-418a836d4dc8",
   "metadata": {},
   "outputs": [
    {
     "data": {
      "image/png": "[encoded data removed]",
      "text/plain": [
       "<Figure size 640x480 with 1 Axes>"
      ]
     },
     "metadata": {},
     "output_type": "display_data"
    }
   ],
   "source": [
    "sns.scatterplot(data=df, x='SH.ALC.PCAP.LI', y='IQ.CPA.PROT.XQ')\n",
    "plt.yscale('log')"
   ]
  },
  {
   "cell_type": "code",
   "execution_count": 9,
   "id": "8b7ecdd2-1716-4d39-b12f-45c91292dff5",
   "metadata": {},
   "outputs": [
    {
     "data": {
      "text/html": [
       "<div>\n",
       "<style scoped>\n",
       "    .dataframe tbody tr th:only-of-type {\n",
       "        vertical-align: middle;\n",
       "    }\n",
       "\n",
       "    .dataframe tbody tr th {\n",
       "        vertical-align: top;\n",
       "    }\n",
       "\n",
       "    .dataframe thead th {\n",
       "        text-align: right;\n",
       "    }\n",
       "</style>\n",
       "<table border=\"1\" class=\"dataframe\">\n",
       "  <thead>\n",
       "    <tr style=\"text-align: right;\">\n",
       "      <th></th>\n",
       "      <th>IQ.CPA.PROT.XQ</th>\n",
       "      <th>SE.ADT.1524.LT.FE.ZS</th>\n",
       "      <th>EN.ATM.CO2E.PC</th>\n",
       "      <th>SH.ALC.PCAP.LI</th>\n",
       "    </tr>\n",
       "  </thead>\n",
       "  <tbody>\n",
       "    <tr>\n",
       "      <th>IQ.CPA.PROT.XQ</th>\n",
       "      <td>1.000000</td>\n",
       "      <td>0.386229</td>\n",
       "      <td>0.209664</td>\n",
       "      <td>0.209870</td>\n",
       "    </tr>\n",
       "    <tr>\n",
       "      <th>SE.ADT.1524.LT.FE.ZS</th>\n",
       "      <td>0.386229</td>\n",
       "      <td>1.000000</td>\n",
       "      <td>0.578561</td>\n",
       "      <td>0.210982</td>\n",
       "    </tr>\n",
       "    <tr>\n",
       "      <th>EN.ATM.CO2E.PC</th>\n",
       "      <td>0.209664</td>\n",
       "      <td>0.578561</td>\n",
       "      <td>1.000000</td>\n",
       "      <td>0.435432</td>\n",
       "    </tr>\n",
       "    <tr>\n",
       "      <th>SH.ALC.PCAP.LI</th>\n",
       "      <td>0.209870</td>\n",
       "      <td>0.210982</td>\n",
       "      <td>0.435432</td>\n",
       "      <td>1.000000</td>\n",
       "    </tr>\n",
       "  </tbody>\n",
       "</table>\n",
       "</div>"
      ],
      "text/plain": [
       "                      IQ.CPA.PROT.XQ  SE.ADT.1524.LT.FE.ZS  EN.ATM.CO2E.PC  \\\n",
       "IQ.CPA.PROT.XQ              1.000000              0.386229        0.209664   \n",
       "SE.ADT.1524.LT.FE.ZS        0.386229              1.000000        0.578561   \n",
       "EN.ATM.CO2E.PC              0.209664              0.578561        1.000000   \n",
       "SH.ALC.PCAP.LI              0.209870              0.210982        0.435432   \n",
       "\n",
       "                      SH.ALC.PCAP.LI  \n",
       "IQ.CPA.PROT.XQ              0.209870  \n",
       "SE.ADT.1524.LT.FE.ZS        0.210982  \n",
       "EN.ATM.CO2E.PC              0.435432  \n",
       "SH.ALC.PCAP.LI              1.000000  "
      ]
     },
     "execution_count": 9,
     "metadata": {},
     "output_type": "execute_result"
    }
   ],
   "source": [
    "# show confusion matrix to see correlation of indicators  \n",
    "df[['IQ.CPA.PROT.XQ', 'SE.ADT.1524.LT.FE.ZS', 'EN.ATM.CO2E.PC', 'SH.ALC.PCAP.LI']].corr()"
   ]
  },
  {
   "cell_type": "code",
   "execution_count": 10,
   "id": "f27a404b-b460-4e11-87ec-0e72c3abb98d",
   "metadata": {},
   "outputs": [],
   "source": [
    "# split data into training and testing set\n",
    "X_train, X_test, y_train, y_test = sklearn.model_selection.train_test_split(df[df.columns[2:-1]], df[df.columns[-1]], test_size=0.1, random_state=42)\n",
    "\n",
    "# fit the model \n",
    "reg = sklearn.linear_model.LinearRegression().fit(X_train, y_train)\n"
   ]
  },
  {
   "cell_type": "code",
   "execution_count": 11,
   "id": "6402bd9c-7fc1-428b-81e2-b42e72bc577a",
   "metadata": {},
   "outputs": [],
   "source": [
    "# predict on the model\n",
    "y_pred = reg.predict(X_test)"
   ]
  },
  {
   "cell_type": "code",
   "execution_count": 12,
   "id": "98fec6e5-9cf4-4c94-b88e-09d7ac0e69f3",
   "metadata": {},
   "outputs": [
    {
     "data": {
      "text/plain": [
       "(array([2.99613514, 3.51358277, 2.97189532, 3.6296929 , 4.13045431,\n",
       "        4.63932104]),\n",
       " 0      3.628090\n",
       " 49     0.409130\n",
       " 237    2.880603\n",
       " 131    3.168600\n",
       " 247    4.728616\n",
       " 258    5.151493\n",
       " Name: SH.ALC.PCAP.LI, dtype: float64)"
      ]
     },
     "execution_count": 12,
     "metadata": {},
     "output_type": "execute_result"
    }
   ],
   "source": [
    "y_pred, y_test"
   ]
  },
  {
   "cell_type": "code",
   "execution_count": 14,
   "id": "179ffc52-8c10-4c8a-8bda-f7a67277c832",
   "metadata": {},
   "outputs": [
    {
     "data": {
      "text/plain": [
       "Text(0, 0.5, 'Real value')"
      ]
     },
     "execution_count": 14,
     "metadata": {},
     "output_type": "execute_result"
    },
    {
     "data": {
      "image/png": "[encoded data removed]",
      "text/plain": [
       "<Figure size 640x480 with 1 Axes>"
      ]
     },
     "metadata": {},
     "output_type": "display_data"
    }
   ],
   "source": [
    "# plot the prediction on alcoholism against real data\n",
    "plt.plot(y_pred, y_test, \"ko\")\n",
    "plt.plot(range(10), range(10))\n",
    "plt.title('Prediction against real data')\n",
    "plt.xlabel('Predicted value')\n",
    "plt.ylabel('Real value')"
   ]
  },
  {
   "cell_type": "code",
   "execution_count": null,
   "id": "9f293fe5-e5a7-4cf7-9bea-b5180e205d57",
   "metadata": {},
   "outputs": [],
   "source": []
  }
 ],
 "metadata": {
  "kernelspec": {
   "display_name": "Python 3 (ipykernel)",
   "language": "python",
   "name": "python3"
  },
  "language_info": {
   "codemirror_mode": {
    "name": "ipython",
    "version": 3
   },
   "file_extension": ".py",
   "mimetype": "text/x-python",
   "name": "python",
   "nbconvert_exporter": "python",
   "pygments_lexer": "ipython3",
   "version": "3.11.5"
  }
 },
 "nbformat": 4,
 "nbformat_minor": 5
}
