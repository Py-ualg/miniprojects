{
 "cells": [
  {
   "cell_type": "markdown",
   "id": "ba96bab1-f0d9-4069-b163-9234158ee86d",
   "metadata": {},
   "source": [
    "## Coding sprint (15/12)\n",
    "## Task:\n",
    "Predict 'Total alcohol consumption per capita (liters of pure alcohol, projected estimates, 15+ years of age)' from other World development indicators\n",
    "https://datacatalog.worldbank.org/home\n",
    "\n",
    "### Group 1\n",
    "https://pypi.org/project/wbgapi/\n",
    "1. Access world bank data via python API, wbgapi\n",
    "2. Get the alcohol indicator, and search other indicators (year 2019)\n",
    "3. Your final product is pandas DataFrame containing 10 relevant indicators of your choice\n",
    "\n",
    "### Group 2\n",
    "https://pandas.pydata.org/docs/reference/api/pandas.DataFrame.corr.html\n",
    "1. Your input is the DF from the above\n",
    "2. Solve the problem with missing values (what are you going to do? substitute, invent a value, ignore a country?)\n",
    "3. Find 5 best candidate predictors of the alcohol comsuption out of the 10 in the table\n",
    "\n",
    "### Group 3\n",
    "https://scikit-learn.org/stable/modules/generated/sklearn.linear_model.LinearRegression.html\n",
    "1. Your input is Dataframe with 5 predictors (features) and target alcohol column.\n",
    "2. Split the data into train and test.\n",
    "3. prepare a linear regression model (scikit learn LinearRegression()) to fit the data\n",
    "5. Find evaluation metrics of the model.\n",
    "6. Predict the test data. How is the performance between train and test?"
   ]
  },
  {
   "cell_type": "code",
   "execution_count": 52,
   "id": "9bb13a22-7e17-4462-84b5-a8010ed1b8db",
   "metadata": {},
   "outputs": [],
   "source": [
    "import wbgapi as wb\n",
    "import pandas as pd\n",
    "import seaborn as sns\n",
    "import matplotlib.pyplot as plt\n",
    "import sklearn"
   ]
  },
  {
   "cell_type": "code",
   "execution_count": 39,
   "id": "a07374c0-e373-4b11-b0d9-577ed9f5ce7d",
   "metadata": {},
   "outputs": [],
   "source": [
    "# help(wb.series)"
   ]
  },
  {
   "cell_type": "code",
   "execution_count": 40,
   "id": "00461d38-b512-4bd4-b174-e955504f0430",
   "metadata": {},
   "outputs": [
    {
     "data": {
      "text/html": [
       "<div class=\"wbgapi\"><h4>Series</h4><table>\n",
       "<thead>\n",
       "<tr><th>ID               </th><th>Name  </th><th>Field                           </th><th>Value                                                                                                                                                                 </th></tr>\n",
       "</thead>\n",
       "<tbody>\n",
       "<tr><td>EG.CFT.ACCS.RU.ZS</td><td>      </td><td>Statisticalconceptandmethodology</td><td>...fuels, electricity, as well as an aggregation of any other clean fuels like alcohol) are produced by aggregating estimates of relevant fuel types. The model was...</td></tr>\n",
       "<tr><td>EG.CFT.ACCS.UR.ZS</td><td>      </td><td>Statisticalconceptandmethodology</td><td>...fuels, electricity, as well as an aggregation of any other clean fuels like alcohol) are produced by aggregating estimates of relevant fuel types. The model was...</td></tr>\n",
       "<tr><td>EG.CFT.ACCS.ZS   </td><td>      </td><td>Statisticalconceptandmethodology</td><td>...fuels, electricity, as well as an aggregation of any other clean fuels like alcohol) are produced by aggregating estimates of relevant fuel types. The model was...</td></tr>\n",
       "<tr><td>SH.ALC.PCAP.FE.LI</td><td>      </td><td>Developmentrelevance            </td><td>...Acoording to the World Health Organization, alcohol consumption is a causal factor in more than 200 disease and injury conditions....                              </td></tr>\n",
       "<tr><td>SH.ALC.PCAP.FE.LI</td><td>      </td><td>IndicatorName                   </td><td>Total alcohol consumption per capita, female (liters of pure alcohol, projected estimates, female 15+ years of age)                                                   </td></tr>\n",
       "<tr><td>SH.ALC.PCAP.FE.LI</td><td>      </td><td>Longdefinition                  </td><td>...Total alcohol per capita consumption is defined as the total (sum of recorded and unrecorded...                                                                    </td></tr>\n",
       "<tr><td>SH.ALC.PCAP.FE.LI</td><td>      </td><td>Statisticalconceptandmethodology</td><td>...The estimates for the total alcohol consumption are produced by summing up the 3-year average per capita (15+)...                                                  </td></tr>\n",
       "<tr><td>SH.ALC.PCAP.LI   </td><td>      </td><td>Developmentrelevance            </td><td>...Acoording to the World Health Organization, alcohol consumption is a causal factor in more than 200 disease and injury conditions....                              </td></tr>\n",
       "<tr><td>SH.ALC.PCAP.LI   </td><td>      </td><td>IndicatorName                   </td><td>Total alcohol consumption per capita (liters of pure alcohol, projected estimates, 15+ years of age)                                                                  </td></tr>\n",
       "<tr><td>SH.ALC.PCAP.LI   </td><td>      </td><td>Longdefinition                  </td><td>...Total alcohol per capita consumption is defined as the total (sum of recorded and unrecorded...                                                                    </td></tr>\n",
       "<tr><td>SH.ALC.PCAP.LI   </td><td>      </td><td>Statisticalconceptandmethodology</td><td>...The estimates for the total alcohol consumption are produced by summing up the 3-year average per capita (15+)...                                                  </td></tr>\n",
       "<tr><td>SH.ALC.PCAP.MA.LI</td><td>      </td><td>Developmentrelevance            </td><td>...Acoording to the World Health Organization, alcohol consumption is a causal factor in more than 200 disease and injury conditions....                              </td></tr>\n",
       "<tr><td>SH.ALC.PCAP.MA.LI</td><td>      </td><td>IndicatorName                   </td><td>Total alcohol consumption per capita, male (liters of pure alcohol, projected estimates, male 15+ years of age)                                                       </td></tr>\n",
       "<tr><td>SH.ALC.PCAP.MA.LI</td><td>      </td><td>Longdefinition                  </td><td>...Total alcohol per capita consumption is defined as the total (sum of recorded and unrecorded...                                                                    </td></tr>\n",
       "<tr><td>SH.ALC.PCAP.MA.LI</td><td>      </td><td>Statisticalconceptandmethodology</td><td>...The estimates for the total alcohol consumption are produced by summing up the 3-year average per capita (15+)...                                                  </td></tr>\n",
       "</tbody>\n",
       "</table></div>"
      ],
      "text/plain": [
       "========\n",
       "Series: EG.CFT.ACCS.RU.ZS\n",
       "\n",
       "Statisticalconceptandmethodology: ...fuels, electricity, as well as an aggregation of any other clean fuels like alcohol) are produced by aggregating estimates of relevant fuel types. The model was...\n",
       "========\n",
       "Series: EG.CFT.ACCS.UR.ZS\n",
       "\n",
       "Statisticalconceptandmethodology: ...fuels, electricity, as well as an aggregation of any other clean fuels like alcohol) are produced by aggregating estimates of relevant fuel types. The model was...\n",
       "========\n",
       "Series: EG.CFT.ACCS.ZS\n",
       "\n",
       "Statisticalconceptandmethodology: ...fuels, electricity, as well as an aggregation of any other clean fuels like alcohol) are produced by aggregating estimates of relevant fuel types. The model was...\n",
       "========\n",
       "Series: SH.ALC.PCAP.FE.LI\n",
       "\n",
       "Developmentrelevance: ...Acoording to the World Health Organization, alcohol consumption is a causal factor in more than 200 disease and injury conditions....\n",
       "--------\n",
       "IndicatorName: Total alcohol consumption per capita, female (liters of pure alcohol, projected estimates, female 15+ years of age)\n",
       "--------\n",
       "Longdefinition: ...Total alcohol per capita consumption is defined as the total (sum of recorded and unrecorded...\n",
       "--------\n",
       "Statisticalconceptandmethodology: ...The estimates for the total alcohol consumption are produced by summing up the 3-year average per capita (15+)...\n",
       "========\n",
       "Series: SH.ALC.PCAP.LI\n",
       "\n",
       "Developmentrelevance: ...Acoording to the World Health Organization, alcohol consumption is a causal factor in more than 200 disease and injury conditions....\n",
       "--------\n",
       "IndicatorName: Total alcohol consumption per capita (liters of pure alcohol, projected estimates, 15+ years of age)\n",
       "--------\n",
       "Longdefinition: ...Total alcohol per capita consumption is defined as the total (sum of recorded and unrecorded...\n",
       "--------\n",
       "Statisticalconceptandmethodology: ...The estimates for the total alcohol consumption are produced by summing up the 3-year average per capita (15+)...\n",
       "========\n",
       "Series: SH.ALC.PCAP.MA.LI\n",
       "\n",
       "Developmentrelevance: ...Acoording to the World Health Organization, alcohol consumption is a causal factor in more than 200 disease and injury conditions....\n",
       "--------\n",
       "IndicatorName: Total alcohol consumption per capita, male (liters of pure alcohol, projected estimates, male 15+ years of age)\n",
       "--------\n",
       "Longdefinition: ...Total alcohol per capita consumption is defined as the total (sum of recorded and unrecorded...\n",
       "--------\n",
       "Statisticalconceptandmethodology: ...The estimates for the total alcohol consumption are produced by summing up the 3-year average per capita (15+)..."
      ]
     },
     "execution_count": 40,
     "metadata": {},
     "output_type": "execute_result"
    }
   ],
   "source": [
    "wb.search('alcohol')"
   ]
  },
  {
   "cell_type": "code",
   "execution_count": null,
   "id": "ccbcceda-6691-4b01-a94d-cf1cdc6b7114",
   "metadata": {},
   "outputs": [],
   "source": [
    "wb.series.info(q='alcohol')"
   ]
  },
  {
   "cell_type": "code",
   "execution_count": 33,
   "id": "e9ddc4a4-c934-4873-8f19-f81c4b8898be",
   "metadata": {},
   "outputs": [],
   "source": [
    "df = wb.data.DataFrame(['SH.ALC.PCAP.LI', 'SP.POP.TOTL'], labels=True, time=2019).reset_index()"
   ]
  },
  {
   "cell_type": "code",
   "execution_count": 41,
   "id": "cd8e90f3-83bc-40b8-84f6-0d31f7085fed",
   "metadata": {},
   "outputs": [
    {
     "data": {
      "text/html": [
       "<div>\n",
       "<style scoped>\n",
       "    .dataframe tbody tr th:only-of-type {\n",
       "        vertical-align: middle;\n",
       "    }\n",
       "\n",
       "    .dataframe tbody tr th {\n",
       "        vertical-align: top;\n",
       "    }\n",
       "\n",
       "    .dataframe thead th {\n",
       "        text-align: right;\n",
       "    }\n",
       "</style>\n",
       "<table border=\"1\" class=\"dataframe\">\n",
       "  <thead>\n",
       "    <tr style=\"text-align: right;\">\n",
       "      <th></th>\n",
       "      <th>economy</th>\n",
       "      <th>Country</th>\n",
       "      <th>SH.ALC.PCAP.LI</th>\n",
       "      <th>SP.POP.TOTL</th>\n",
       "    </tr>\n",
       "  </thead>\n",
       "  <tbody>\n",
       "    <tr>\n",
       "      <th>0</th>\n",
       "      <td>ZWE</td>\n",
       "      <td>Zimbabwe</td>\n",
       "      <td>3.628090</td>\n",
       "      <td>15354608.0</td>\n",
       "    </tr>\n",
       "    <tr>\n",
       "      <th>1</th>\n",
       "      <td>ZMB</td>\n",
       "      <td>Zambia</td>\n",
       "      <td>3.851760</td>\n",
       "      <td>18380477.0</td>\n",
       "    </tr>\n",
       "    <tr>\n",
       "      <th>2</th>\n",
       "      <td>YEM</td>\n",
       "      <td>Yemen, Rep.</td>\n",
       "      <td>0.027780</td>\n",
       "      <td>31546691.0</td>\n",
       "    </tr>\n",
       "    <tr>\n",
       "      <th>3</th>\n",
       "      <td>PSE</td>\n",
       "      <td>West Bank and Gaza</td>\n",
       "      <td>NaN</td>\n",
       "      <td>4685306.0</td>\n",
       "    </tr>\n",
       "    <tr>\n",
       "      <th>4</th>\n",
       "      <td>VIR</td>\n",
       "      <td>Virgin Islands (U.S.)</td>\n",
       "      <td>NaN</td>\n",
       "      <td>106669.0</td>\n",
       "    </tr>\n",
       "    <tr>\n",
       "      <th>...</th>\n",
       "      <td>...</td>\n",
       "      <td>...</td>\n",
       "      <td>...</td>\n",
       "      <td>...</td>\n",
       "    </tr>\n",
       "    <tr>\n",
       "      <th>261</th>\n",
       "      <td>CEB</td>\n",
       "      <td>Central Europe and the Baltics</td>\n",
       "      <td>12.554616</td>\n",
       "      <td>102398537.0</td>\n",
       "    </tr>\n",
       "    <tr>\n",
       "      <th>262</th>\n",
       "      <td>CSS</td>\n",
       "      <td>Caribbean small states</td>\n",
       "      <td>5.283409</td>\n",
       "      <td>7424102.0</td>\n",
       "    </tr>\n",
       "    <tr>\n",
       "      <th>263</th>\n",
       "      <td>ARB</td>\n",
       "      <td>Arab World</td>\n",
       "      <td>0.358012</td>\n",
       "      <td>441467739.0</td>\n",
       "    </tr>\n",
       "    <tr>\n",
       "      <th>264</th>\n",
       "      <td>AFW</td>\n",
       "      <td>Africa Western and Central</td>\n",
       "      <td>4.256345</td>\n",
       "      <td>454306063.0</td>\n",
       "    </tr>\n",
       "    <tr>\n",
       "      <th>265</th>\n",
       "      <td>AFE</td>\n",
       "      <td>Africa Eastern and Southern</td>\n",
       "      <td>4.611127</td>\n",
       "      <td>667242986.0</td>\n",
       "    </tr>\n",
       "  </tbody>\n",
       "</table>\n",
       "<p>266 rows × 4 columns</p>\n",
       "</div>"
      ],
      "text/plain": [
       "    economy                         Country  SH.ALC.PCAP.LI  SP.POP.TOTL\n",
       "0       ZWE                        Zimbabwe        3.628090   15354608.0\n",
       "1       ZMB                          Zambia        3.851760   18380477.0\n",
       "2       YEM                     Yemen, Rep.        0.027780   31546691.0\n",
       "3       PSE              West Bank and Gaza             NaN    4685306.0\n",
       "4       VIR           Virgin Islands (U.S.)             NaN     106669.0\n",
       "..      ...                             ...             ...          ...\n",
       "261     CEB  Central Europe and the Baltics       12.554616  102398537.0\n",
       "262     CSS          Caribbean small states        5.283409    7424102.0\n",
       "263     ARB                      Arab World        0.358012  441467739.0\n",
       "264     AFW      Africa Western and Central        4.256345  454306063.0\n",
       "265     AFE     Africa Eastern and Southern        4.611127  667242986.0\n",
       "\n",
       "[266 rows x 4 columns]"
      ]
     },
     "execution_count": 41,
     "metadata": {},
     "output_type": "execute_result"
    }
   ],
   "source": [
    "df"
   ]
  },
  {
   "cell_type": "code",
   "execution_count": 46,
   "id": "6f2bc269-2b1b-4c68-a79f-418a836d4dc8",
   "metadata": {},
   "outputs": [
    {
     "data": {
      "image/png": "[encoded data removed]",
      "text/plain": [
       "<Figure size 640x480 with 1 Axes>"
      ]
     },
     "metadata": {},
     "output_type": "display_data"
    }
   ],
   "source": [
    "sns.scatterplot(data=df, x='SH.ALC.PCAP.LI', y='SP.POP.TOTL')\n",
    "plt.yscale('log')"
   ]
  },
  {
   "cell_type": "code",
   "execution_count": 51,
   "id": "8b7ecdd2-1716-4d39-b12f-45c91292dff5",
   "metadata": {},
   "outputs": [
    {
     "data": {
      "text/html": [
       "<div>\n",
       "<style scoped>\n",
       "    .dataframe tbody tr th:only-of-type {\n",
       "        vertical-align: middle;\n",
       "    }\n",
       "\n",
       "    .dataframe tbody tr th {\n",
       "        vertical-align: top;\n",
       "    }\n",
       "\n",
       "    .dataframe thead th {\n",
       "        text-align: right;\n",
       "    }\n",
       "</style>\n",
       "<table border=\"1\" class=\"dataframe\">\n",
       "  <thead>\n",
       "    <tr style=\"text-align: right;\">\n",
       "      <th></th>\n",
       "      <th>SH.ALC.PCAP.LI</th>\n",
       "      <th>SP.POP.TOTL</th>\n",
       "    </tr>\n",
       "  </thead>\n",
       "  <tbody>\n",
       "    <tr>\n",
       "      <th>SH.ALC.PCAP.LI</th>\n",
       "      <td>1.000000</td>\n",
       "      <td>-0.033006</td>\n",
       "    </tr>\n",
       "    <tr>\n",
       "      <th>SP.POP.TOTL</th>\n",
       "      <td>-0.033006</td>\n",
       "      <td>1.000000</td>\n",
       "    </tr>\n",
       "  </tbody>\n",
       "</table>\n",
       "</div>"
      ],
      "text/plain": [
       "                SH.ALC.PCAP.LI  SP.POP.TOTL\n",
       "SH.ALC.PCAP.LI        1.000000    -0.033006\n",
       "SP.POP.TOTL          -0.033006     1.000000"
      ]
     },
     "execution_count": 51,
     "metadata": {},
     "output_type": "execute_result"
    }
   ],
   "source": [
    "df[['SH.ALC.PCAP.LI', 'SP.POP.TOTL']].corr()"
   ]
  },
  {
   "cell_type": "code",
   "execution_count": null,
   "id": "f27a404b-b460-4e11-87ec-0e72c3abb98d",
   "metadata": {},
   "outputs": [],
   "source": []
  }
 ],
 "metadata": {
  "kernelspec": {
   "display_name": "pyualg",
   "language": "python",
   "name": "pyualg"
  },
  "language_info": {
   "codemirror_mode": {
    "name": "ipython",
    "version": 3
   },
   "file_extension": ".py",
   "mimetype": "text/x-python",
   "name": "python",
   "nbconvert_exporter": "python",
   "pygments_lexer": "ipython3",
   "version": "3.11.5"
  }
 },
 "nbformat": 4,
 "nbformat_minor": 5
}
