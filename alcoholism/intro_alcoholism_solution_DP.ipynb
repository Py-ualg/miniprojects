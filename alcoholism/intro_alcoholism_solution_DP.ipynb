{
 "cells": [
  {
   "cell_type": "markdown",
   "id": "ba96bab1-f0d9-4069-b163-9234158ee86d",
   "metadata": {},
   "source": [
    "## Coding sprint (15/12)\n",
    "## Task:\n",
    "Predict 'Total alcohol consumption per capita (liters of pure alcohol, projected estimates, 15+ years of age)' from other World development indicators\n",
    "https://datacatalog.worldbank.org/home\n",
    "\n",
    "### Group 1\n",
    "https://pypi.org/project/wbgapi/\n",
    "1. Access world bank data via python API, wbgapi\n",
    "2. Get the alcohol indicator, and search other indicators (year 2019)\n",
    "3. Your final product is pandas DataFrame containing 10 relevant indicators of your choice\n",
    "\n",
    "### Group 2\n",
    "https://pandas.pydata.org/docs/reference/api/pandas.DataFrame.corr.html\n",
    "1. Your input is the DF from the above\n",
    "2. Solve the problem with missing values (what are you going to do? substitute, invent a value, ignore a country?)\n",
    "3. Find 5 best candidate predictors of the alcohol comsuption out of the 10 in the table\n",
    "\n",
    "### Group 3\n",
    "https://scikit-learn.org/stable/modules/generated/sklearn.linear_model.LinearRegression.html\n",
    "1. Your input is Dataframe with 5 predictors (features) and target alcohol column.\n",
    "2. Split the data into train and test.\n",
    "3. prepare a linear regression model (scikit learn LinearRegression()) to fit the data\n",
    "5. Find evaluation metrics of the model.\n",
    "6. Predict the test data. How is the performance between train and test?"
   ]
  },
  {
   "cell_type": "code",
   "execution_count": 1,
   "id": "9bb13a22-7e17-4462-84b5-a8010ed1b8db",
   "metadata": {},
   "outputs": [],
   "source": [
    "import wbgapi as wb\n",
    "import pandas as pd\n",
    "import seaborn as sns\n",
    "import matplotlib.pyplot as plt\n",
    "import sklearn\n",
    "from sklearn import model_selection\n",
    "from sklearn import linear_model\n",
    "from pandas_datapackage_reader import read_datapackage\n",
    "from tqdm import tqdm\n",
    "# pip install pandas-datapackage-reader"
   ]
  },
  {
   "cell_type": "markdown",
   "id": "2f4900a6-3834-414c-8e9d-a01d2e4a7240",
   "metadata": {},
   "source": [
    "## Intro to wbgapi"
   ]
  },
  {
   "cell_type": "code",
   "execution_count": 2,
   "id": "a07374c0-e373-4b11-b0d9-577ed9f5ce7d",
   "metadata": {},
   "outputs": [],
   "source": [
    "# help for API methods\n",
    "# help(wb.series)"
   ]
  },
  {
   "cell_type": "code",
   "execution_count": 3,
   "id": "00461d38-b512-4bd4-b174-e955504f0430",
   "metadata": {},
   "outputs": [],
   "source": [
    "# fultext search of datasets\n",
    "# wb.search('alcohol')"
   ]
  },
  {
   "cell_type": "code",
   "execution_count": 4,
   "id": "ccbcceda-6691-4b01-a94d-cf1cdc6b7114",
   "metadata": {},
   "outputs": [
    {
     "data": {
      "text/html": [
       "<div class=\"wbgapi\"><table>\n",
       "<thead>\n",
       "<tr><th>id               </th><th>value                                                                                                              </th></tr>\n",
       "</thead>\n",
       "<tbody>\n",
       "<tr><td>SH.ALC.PCAP.FE.LI</td><td>Total alcohol consumption per capita, female (liters of pure alcohol, projected estimates, female 15+ years of age)</td></tr>\n",
       "<tr><td>SH.ALC.PCAP.LI   </td><td>Total alcohol consumption per capita (liters of pure alcohol, projected estimates, 15+ years of age)               </td></tr>\n",
       "<tr><td>SH.ALC.PCAP.MA.LI</td><td>Total alcohol consumption per capita, male (liters of pure alcohol, projected estimates, male 15+ years of age)    </td></tr>\n",
       "<tr><td>                 </td><td>3 elements                                                                                                         </td></tr>\n",
       "</tbody>\n",
       "</table></div>"
      ],
      "text/plain": [
       "id                 value\n",
       "-----------------  -------------------------------------------------------------------------------------------------------------------\n",
       "SH.ALC.PCAP.FE.LI  Total alcohol consumption per capita, female (liters of pure alcohol, projected estimates, female 15+ years of age)\n",
       "SH.ALC.PCAP.LI     Total alcohol consumption per capita (liters of pure alcohol, projected estimates, 15+ years of age)\n",
       "SH.ALC.PCAP.MA.LI  Total alcohol consumption per capita, male (liters of pure alcohol, projected estimates, male 15+ years of age)\n",
       "                   3 elements"
      ]
     },
     "execution_count": 4,
     "metadata": {},
     "output_type": "execute_result"
    }
   ],
   "source": [
    "# search available series\n",
    "wb.series.info(q='alcohol')"
   ]
  },
  {
   "cell_type": "markdown",
   "id": "fc26563e-c538-45a1-83dd-9649a6cee3cf",
   "metadata": {},
   "source": [
    "## Help functions for the DataFrame data"
   ]
  },
  {
   "cell_type": "code",
   "execution_count": 5,
   "id": "40932674-27d9-4088-acda-bcc143a11722",
   "metadata": {},
   "outputs": [],
   "source": [
    "def merge2dfs(df1, df2, on, verbose=1):\n",
    "    out = df1.merge(df2, on=on)\n",
    "    if verbose:\n",
    "        print('Discarded from df2:', set(df1[on]) - (set(out[on])))\n",
    "    return out\n",
    "\n",
    "## filter countries from other economic units\n",
    "def filter_years(data_ID, iso_df, number_years=5, verbose=1):\n",
    "    \"\"\"Gets DF from WB by data_ID for the last\n",
    "    number_years. goes column by column and:\n",
    "        1. filters valid country ISO codes.\n",
    "        2. count valid values and tracks which year has\n",
    "            the most valid values\n",
    "\n",
    "    Args:\n",
    "        data_ID (str): WB series ID\n",
    "        iso_df (pd.DataFrame): DF of valid country isocodes\n",
    "        number_years (int, optional): number of year columns in the WB dataframe.\n",
    "            Defaults to 5.\n",
    "    Returns:\n",
    "        out (pd.DataFrame): first is economy column (country 3 letter isocode),\n",
    "            second is year data, containing max valid values.\n",
    "        \n",
    "    \"\"\"\n",
    "    # query data from WB\n",
    "    df = wb.data.DataFrame(data_ID, labels=True, mrv=number_years).reset_index()\n",
    "\n",
    "    # keep only data for independet countries only\n",
    "    df = df[df['economy'].isin(iso_df['economy'])].reset_index()\n",
    "\n",
    "    # list of nans per column\n",
    "    lista = list(df.isna().sum())\n",
    "\n",
    "    # minimal value for last `number_years columns`\n",
    "    # TODO: invert list in order to find minimum which is in the newest data, if two minima are the same\n",
    "    min_nans = int(min(lista[-number_years:]))\n",
    "    idx = lista[-number_years:].index(min_nans)\n",
    "\n",
    "    # print output controlled by verbose function argument, you can see it quite often\n",
    "    if verbose:\n",
    "        print(data_ID, '-- best data collections year:', df.columns[-number_years + idx], '-- # nans:', min_nans)\n",
    "\n",
    "    # get the best column\n",
    "    s = df.columns[-number_years + idx]\n",
    "    # create a resulting DF\n",
    "    out = df[['economy', s]]\n",
    "\n",
    "    # rename the year column to data_ID:year\n",
    "    out = out.rename(columns={s: data_ID + '.' + s[-4:]})\n",
    "    return  out, min_nans"
   ]
  },
  {
   "cell_type": "markdown",
   "id": "932d7146-c421-432a-9224-fd087f7969ee",
   "metadata": {},
   "source": [
    "## setting up"
   ]
  },
  {
   "cell_type": "code",
   "execution_count": 6,
   "id": "d5839b0b-b96d-4f43-bf70-19dc3675c254",
   "metadata": {},
   "outputs": [],
   "source": [
    "# Get isocodes and continent information for every country\n",
    "country_codes = read_datapackage(\"https://github.com/datasets/country-codes\")\n",
    "iso_df = country_codes[country_codes['is_independent']=='Yes'][['ISO3166-1-Alpha-3', 'Continent', 'Sub-region Name', 'CLDR display name']]\n",
    "iso_df.rename(columns={'ISO3166-1-Alpha-3': 'economy'}, inplace=True)\n",
    "\n",
    "# if you have geopandas, you can get geographical information too\n",
    "# geo_countries = read_datapackage(\"https://github.com/datasets/geo-countries\")"
   ]
  },
  {
   "cell_type": "code",
   "execution_count": 7,
   "id": "e3943ee7-6d54-4db5-8b24-33ee83368a58",
   "metadata": {},
   "outputs": [],
   "source": [
    "# save indicators from worldbank in dataframe:\n",
    "# CPIA social protection rating (1=low to 6=high): 'IQ.CPA.PROT.XQ'\n",
    "# Literacy rate, youth female (% of females ages 15-24): 'SE.ADT.1524.LT.FE.ZS'\n",
    "# CO2 emissions (metric tons per capita): 'EN.ATM.CO2E.PC'\n",
    "# Total alcohol consumption per capita (liters of pure alcohol, projected estimates, 15+ years of age): 'SH.ALC.PCAP.LI'\n",
    "\n",
    "list_indicators = ['IQ.CPA.PROT.XQ', 'SE.ADT.1524.LT.FE.ZS', 'EN.ATM.CO2E.PC', 'SH.ALC.PCAP.LI']\n",
    "\n",
    "dict_indicators = {'IQ.CPA.PROT.XQ': 'social_protection', \n",
    "                   'SE.ADT.1524.LT.FE.ZS': 'literacy',\n",
    "                   'EN.ATM.CO2E.PC': 'CO2',\n",
    "                   'SH.ALC.PCAP.LI': 'alcoholism'}"
   ]
  },
  {
   "cell_type": "markdown",
   "id": "6bce7cd6-20a2-4cd0-80ba-ef09588e3644",
   "metadata": {},
   "source": [
    "## Get the full DF"
   ]
  },
  {
   "cell_type": "code",
   "execution_count": 8,
   "id": "0f192484-a51d-4834-8c7b-d2954597645b",
   "metadata": {},
   "outputs": [
    {
     "name": "stdout",
     "output_type": "stream",
     "text": [
      "SH.ALC.PCAP.LI -- best data collections year: YR2010 -- # nans: 6\n"
     ]
    }
   ],
   "source": [
    "# get only alcohol dataset\n",
    "df_target, _ = filter_years('SH.ALC.PCAP.LI', iso_df, 3)"
   ]
  },
  {
   "cell_type": "code",
   "execution_count": 9,
   "id": "7ca78f00-06ad-405c-835d-41e8d9c96c0d",
   "metadata": {},
   "outputs": [
    {
     "name": "stdout",
     "output_type": "stream",
     "text": [
      "IQ.CPA.PROT.XQ -- best data collections year: YR2019 -- # nans: 119\n",
      "SE.ADT.1524.LT.FE.ZS -- best data collections year: YR2021 -- # nans: 145\n",
      "EN.ATM.CO2E.PC -- best data collections year: YR2016 -- # nans: 2\n",
      "SH.ALC.PCAP.LI -- best data collections year: YR2010 -- # nans: 6\n"
     ]
    }
   ],
   "source": [
    "# loop over datasets, take the year with most entries, and merge on the iso codes DF\n",
    "for i, data_id in enumerate(dict_indicators.keys()):\n",
    "    df, _ = filter_years(data_id, iso_df, 5)\n",
    "    if i == 0:\n",
    "        df1 = merge2dfs(iso_df, df, on='economy', verbose=0)\n",
    "    else:\n",
    "        df1 = merge2dfs(df1, df, on='economy', verbose=0)"
   ]
  },
  {
   "cell_type": "code",
   "execution_count": 10,
   "id": "0e637844-7020-4af9-8690-6ca63c3d09ae",
   "metadata": {},
   "outputs": [
    {
     "data": {
      "text/plain": [
       "193"
      ]
     },
     "execution_count": 10,
     "metadata": {},
     "output_type": "execute_result"
    }
   ],
   "source": [
    "len(df1)"
   ]
  },
  {
   "cell_type": "code",
   "execution_count": 11,
   "id": "61d8c44f-feed-4520-a0cb-213695e679f7",
   "metadata": {},
   "outputs": [
    {
     "data": {
      "text/html": [
       "<div>\n",
       "<style scoped>\n",
       "    .dataframe tbody tr th:only-of-type {\n",
       "        vertical-align: middle;\n",
       "    }\n",
       "\n",
       "    .dataframe tbody tr th {\n",
       "        vertical-align: top;\n",
       "    }\n",
       "\n",
       "    .dataframe thead th {\n",
       "        text-align: right;\n",
       "    }\n",
       "</style>\n",
       "<table border=\"1\" class=\"dataframe\">\n",
       "  <thead>\n",
       "    <tr style=\"text-align: right;\">\n",
       "      <th></th>\n",
       "      <th>IQ.CPA.PROT.XQ.2019</th>\n",
       "      <th>SE.ADT.1524.LT.FE.ZS.2021</th>\n",
       "      <th>EN.ATM.CO2E.PC.2016</th>\n",
       "      <th>SH.ALC.PCAP.LI.2010</th>\n",
       "    </tr>\n",
       "  </thead>\n",
       "  <tbody>\n",
       "    <tr>\n",
       "      <th>count</th>\n",
       "      <td>74.000000</td>\n",
       "      <td>48.000000</td>\n",
       "      <td>191.000000</td>\n",
       "      <td>187.000000</td>\n",
       "    </tr>\n",
       "    <tr>\n",
       "      <th>mean</th>\n",
       "      <td>2.939189</td>\n",
       "      <td>95.410640</td>\n",
       "      <td>4.145438</td>\n",
       "      <td>5.558328</td>\n",
       "    </tr>\n",
       "    <tr>\n",
       "      <th>std</th>\n",
       "      <td>0.573100</td>\n",
       "      <td>11.777148</td>\n",
       "      <td>4.925105</td>\n",
       "      <td>4.178202</td>\n",
       "    </tr>\n",
       "    <tr>\n",
       "      <th>min</th>\n",
       "      <td>1.000000</td>\n",
       "      <td>41.593719</td>\n",
       "      <td>0.029732</td>\n",
       "      <td>0.000000</td>\n",
       "    </tr>\n",
       "    <tr>\n",
       "      <th>25%</th>\n",
       "      <td>2.500000</td>\n",
       "      <td>98.482498</td>\n",
       "      <td>0.699693</td>\n",
       "      <td>1.789975</td>\n",
       "    </tr>\n",
       "    <tr>\n",
       "      <th>50%</th>\n",
       "      <td>3.000000</td>\n",
       "      <td>99.329998</td>\n",
       "      <td>2.604352</td>\n",
       "      <td>5.068690</td>\n",
       "    </tr>\n",
       "    <tr>\n",
       "      <th>75%</th>\n",
       "      <td>3.500000</td>\n",
       "      <td>99.712498</td>\n",
       "      <td>5.812175</td>\n",
       "      <td>8.698940</td>\n",
       "    </tr>\n",
       "    <tr>\n",
       "      <th>max</th>\n",
       "      <td>4.000000</td>\n",
       "      <td>100.000000</td>\n",
       "      <td>33.549569</td>\n",
       "      <td>17.618680</td>\n",
       "    </tr>\n",
       "  </tbody>\n",
       "</table>\n",
       "</div>"
      ],
      "text/plain": [
       "       IQ.CPA.PROT.XQ.2019  SE.ADT.1524.LT.FE.ZS.2021  EN.ATM.CO2E.PC.2016  \\\n",
       "count            74.000000                  48.000000           191.000000   \n",
       "mean              2.939189                  95.410640             4.145438   \n",
       "std               0.573100                  11.777148             4.925105   \n",
       "min               1.000000                  41.593719             0.029732   \n",
       "25%               2.500000                  98.482498             0.699693   \n",
       "50%               3.000000                  99.329998             2.604352   \n",
       "75%               3.500000                  99.712498             5.812175   \n",
       "max               4.000000                 100.000000            33.549569   \n",
       "\n",
       "       SH.ALC.PCAP.LI.2010  \n",
       "count           187.000000  \n",
       "mean              5.558328  \n",
       "std               4.178202  \n",
       "min               0.000000  \n",
       "25%               1.789975  \n",
       "50%               5.068690  \n",
       "75%               8.698940  \n",
       "max              17.618680  "
      ]
     },
     "execution_count": 11,
     "metadata": {},
     "output_type": "execute_result"
    }
   ],
   "source": [
    "# basic statistics of numerical columns of your DF\n",
    "# count tells you number of valid values (not Nans), so IQ.CPA.PROT.XQ and SE.ADT.1524.LT.FE.ZS are useless to us\n",
    "df1.describe()"
   ]
  },
  {
   "cell_type": "code",
   "execution_count": 12,
   "id": "0de53cd6-7528-4020-8dee-5ef8c12c6fcb",
   "metadata": {},
   "outputs": [
    {
     "data": {
      "text/plain": [
       "14"
      ]
     },
     "execution_count": 12,
     "metadata": {},
     "output_type": "execute_result"
    }
   ],
   "source": [
    "# countries with full valid data\n",
    "len(df1[-df1.isnull().any(axis=1)])"
   ]
  },
  {
   "cell_type": "markdown",
   "id": "b9e25397-2713-4b8d-932a-2abd4258c00c",
   "metadata": {},
   "source": [
    "### DP: 21/01: Conclusion: candidate dataset need to be screened for haveing enough data\n",
    "Few things you can look at before Friday. They need to be done before we start improving the model\n",
    "* explore good candidate datasets based on the below code\n",
    "* look into the docs of sns.scatterplot() and make more illustrative visualizations from the good datasets.\n",
    "* And some other suggestion tasks below"
   ]
  },
  {
   "cell_type": "code",
   "execution_count": 13,
   "id": "8cd83340-ae90-4dde-9f2a-57130d465c4a",
   "metadata": {},
   "outputs": [],
   "source": [
    "# print all 1430 dataset IDs\n",
    "# for i in wb.series.list():\n",
    "#     print(i)\n",
    "\n",
    "all_data_lst = list(wb.series.list())"
   ]
  },
  {
   "cell_type": "code",
   "execution_count": 14,
   "id": "b6d1a7a5-5a70-4e8e-890c-fe267ffba057",
   "metadata": {},
   "outputs": [
    {
     "name": "stderr",
     "output_type": "stream",
     "text": [
      "2it [00:04,  2.21s/it]"
     ]
    },
    {
     "name": "stdout",
     "output_type": "stream",
     "text": [
      "Incomming dataset problem: single positional indexer is out-of-bounds\n"
     ]
    },
    {
     "name": "stderr",
     "output_type": "stream",
     "text": [
      "3it [00:06,  1.93s/it]"
     ]
    },
    {
     "name": "stdout",
     "output_type": "stream",
     "text": [
      "Incomming dataset problem: single positional indexer is out-of-bounds\n"
     ]
    },
    {
     "name": "stderr",
     "output_type": "stream",
     "text": [
      "9it [00:25,  3.04s/it]"
     ]
    },
    {
     "name": "stdout",
     "output_type": "stream",
     "text": [
      "Taking (CC.PER.RNK.LOWER), valid values: 193, corr: 0.4488238943128711\n"
     ]
    },
    {
     "name": "stderr",
     "output_type": "stream",
     "text": [
      "15it [00:41,  2.60s/it]"
     ]
    },
    {
     "name": "stdout",
     "output_type": "stream",
     "text": [
      "Incomming dataset problem: index -5 is out of bounds for axis 0 with size 4\n"
     ]
    },
    {
     "name": "stderr",
     "output_type": "stream",
     "text": [
      "41it [02:03,  3.06s/it]"
     ]
    },
    {
     "name": "stdout",
     "output_type": "stream",
     "text": [
      "Incomming dataset problem: single positional indexer is out-of-bounds\n"
     ]
    },
    {
     "name": "stderr",
     "output_type": "stream",
     "text": [
      "52it [02:37,  3.08s/it]"
     ]
    },
    {
     "name": "stdout",
     "output_type": "stream",
     "text": [
      "Taking (IQ.SPI.PIL1), valid values: 193, corr: 0.2815504297490589\n"
     ]
    },
    {
     "name": "stderr",
     "output_type": "stream",
     "text": [
      "54it [02:43,  3.05s/it]"
     ]
    },
    {
     "name": "stdout",
     "output_type": "stream",
     "text": [
      "Taking (IT.NET.SECR.P6), valid values: 192, corr: 0.3786114136065561\n"
     ]
    },
    {
     "name": "stderr",
     "output_type": "stream",
     "text": [
      "79it [04:02,  3.12s/it]"
     ]
    },
    {
     "name": "stdout",
     "output_type": "stream",
     "text": [
      "Taking (RL.EST), valid values: 193, corr: 0.4807276593315292\n"
     ]
    },
    {
     "name": "stderr",
     "output_type": "stream",
     "text": [
      "80it [04:05,  3.10s/it]"
     ]
    },
    {
     "name": "stdout",
     "output_type": "stream",
     "text": [
      "Taking (RQ.PER.RNK.UPPER), valid values: 193, corr: 0.5343072135785393\n"
     ]
    },
    {
     "name": "stderr",
     "output_type": "stream",
     "text": [
      "96it [04:55,  3.15s/it]"
     ]
    },
    {
     "name": "stdout",
     "output_type": "stream",
     "text": [
      "Taking (SG.GEN.PARL.ZS), valid values: 192, corr: 0.3462671719529977\n"
     ]
    },
    {
     "name": "stderr",
     "output_type": "stream",
     "text": [
      "99it [05:05,  3.20s/it]"
     ]
    },
    {
     "name": "stdout",
     "output_type": "stream",
     "text": [
      "Taking (SH.DYN.1014), valid values: 192, corr: 0.31728248633535505\n"
     ]
    },
    {
     "name": "stderr",
     "output_type": "stream",
     "text": [
      "130it [06:43,  3.19s/it]"
     ]
    },
    {
     "name": "stdout",
     "output_type": "stream",
     "text": [
      "Taking (SP.DYN.IMRT.IN), valid values: 192, corr: 0.41635573785153446\n"
     ]
    },
    {
     "name": "stderr",
     "output_type": "stream",
     "text": [
      "132it [06:49,  3.15s/it]"
     ]
    },
    {
     "name": "stdout",
     "output_type": "stream",
     "text": [
      "Taking (SP.POP.0014.TO.ZS), valid values: 193, corr: 0.5223166338955566\n"
     ]
    },
    {
     "name": "stderr",
     "output_type": "stream",
     "text": [
      "133it [06:52,  3.18s/it]"
     ]
    },
    {
     "name": "stdout",
     "output_type": "stream",
     "text": [
      "Taking (SP.POP.1564.MA.ZS), valid values: 193, corr: 0.2351402380688819\n"
     ]
    },
    {
     "name": "stderr",
     "output_type": "stream",
     "text": [
      "135it [06:59,  3.23s/it]"
     ]
    },
    {
     "name": "stdout",
     "output_type": "stream",
     "text": [
      "Taking (SP.POP.6064.MA.5Y), valid values: 193, corr: 0.6458898759118488\n"
     ]
    },
    {
     "name": "stderr",
     "output_type": "stream",
     "text": [
      "136it [07:02,  3.21s/it]"
     ]
    },
    {
     "name": "stdout",
     "output_type": "stream",
     "text": [
      "Taking (SP.POP.7074.MA.5Y), valid values: 193, corr: 0.6374111321616257\n"
     ]
    },
    {
     "name": "stderr",
     "output_type": "stream",
     "text": [
      "149it [07:43,  3.11s/it]\n"
     ]
    }
   ],
   "source": [
    "try:\n",
    "    del df_full\n",
    "except:\n",
    "    pass\n",
    "\n",
    "sel_lst = []\n",
    "count_bad_datasets = 0\n",
    "# goes in steps of 10 through all available datasets\n",
    "# 1 iteration on my machine takes 3s, for 1400 dataset would take 75mins\n",
    "for i, el in tqdm(enumerate(all_data_lst[::10])):  # tqdm used a lot in AI model training\n",
    "    try:\n",
    "        # some datasets throw errors, that is why I use try except\n",
    "        df, nNans = filter_years(el['id'], iso_df, number_years=5, verbose=0)\n",
    "        # print(el['id'], df.isna().sum(), df.corrwith(df_target['SH.ALC.PCAP.LI.2010'], axis=0, numeric_only=True))\n",
    "\n",
    "        # correlation value of dataset with alcohol consumption\n",
    "        corr = abs(df.corrwith(df_target['SH.ALC.PCAP.LI.2010'], axis=0, numeric_only=True).iloc[0])\n",
    "    except Exception as e:\n",
    "        print('Incomming dataset problem:', e)\n",
    "        count_bad_datasets += 1\n",
    "        continue\n",
    "    if nNans < 5 and corr > 0.2: # tolerate only small amount of nans\n",
    "        try:\n",
    "            df_full = merge2dfs(df_full, df, on='economy', verbose=0)\n",
    "        except:\n",
    "            df_full = merge2dfs(iso_df, df, on='economy', verbose=0)   \n",
    "        print(f'Taking ({el[\"id\"]}), valid values: {int(df.describe().iat[0, -1])}, corr: {corr}')\n",
    "        sel_lst.append(el)"
   ]
  },
  {
   "cell_type": "code",
   "execution_count": 118,
   "id": "5d4110fb-0d01-4561-a563-8843d80fc398",
   "metadata": {},
   "outputs": [
    {
     "data": {
      "text/html": [
       "<div>\n",
       "<style scoped>\n",
       "    .dataframe tbody tr th:only-of-type {\n",
       "        vertical-align: middle;\n",
       "    }\n",
       "\n",
       "    .dataframe tbody tr th {\n",
       "        vertical-align: top;\n",
       "    }\n",
       "\n",
       "    .dataframe thead th {\n",
       "        text-align: right;\n",
       "    }\n",
       "</style>\n",
       "<table border=\"1\" class=\"dataframe\">\n",
       "  <thead>\n",
       "    <tr style=\"text-align: right;\">\n",
       "      <th></th>\n",
       "      <th>economy</th>\n",
       "      <th>Continent</th>\n",
       "      <th>Sub-region Name</th>\n",
       "      <th>CLDR display name</th>\n",
       "      <th>CC.PER.RNK.LOWER.2018</th>\n",
       "      <th>IQ.SPI.PIL1.2015</th>\n",
       "      <th>IT.NET.SECR.P6.2016</th>\n",
       "      <th>RL.EST.2018</th>\n",
       "      <th>RQ.PER.RNK.UPPER.2018</th>\n",
       "      <th>SG.GEN.PARL.ZS.2019</th>\n",
       "      <th>SH.DYN.1014.2017</th>\n",
       "      <th>SP.DYN.IMRT.IN.2017</th>\n",
       "      <th>SP.POP.0014.TO.ZS.2018</th>\n",
       "      <th>SP.POP.1564.MA.ZS.2018</th>\n",
       "      <th>SP.POP.6064.MA.5Y.2018</th>\n",
       "      <th>SP.POP.7074.MA.5Y.2018</th>\n",
       "    </tr>\n",
       "  </thead>\n",
       "  <tbody>\n",
       "    <tr>\n",
       "      <th>0</th>\n",
       "      <td>AFG</td>\n",
       "      <td>AS</td>\n",
       "      <td>Southern Asia</td>\n",
       "      <td>Afghanistan</td>\n",
       "      <td>0.000000</td>\n",
       "      <td>50.0</td>\n",
       "      <td>12.299268</td>\n",
       "      <td>-1.688587</td>\n",
       "      <td>19.047619</td>\n",
       "      <td>27.868852</td>\n",
       "      <td>2.1</td>\n",
       "      <td>49.4</td>\n",
       "      <td>44.708445</td>\n",
       "      <td>52.633059</td>\n",
       "      <td>1.262403</td>\n",
       "      <td>0.621511</td>\n",
       "    </tr>\n",
       "    <tr>\n",
       "      <th>1</th>\n",
       "      <td>ALB</td>\n",
       "      <td>EU</td>\n",
       "      <td>Southern Europe</td>\n",
       "      <td>Albania</td>\n",
       "      <td>24.285715</td>\n",
       "      <td>80.0</td>\n",
       "      <td>144.640261</td>\n",
       "      <td>-0.414188</td>\n",
       "      <td>71.904762</td>\n",
       "      <td>29.508197</td>\n",
       "      <td>1.1</td>\n",
       "      <td>8.3</td>\n",
       "      <td>17.083082</td>\n",
       "      <td>67.992012</td>\n",
       "      <td>6.017795</td>\n",
       "      <td>3.655646</td>\n",
       "    </tr>\n",
       "    <tr>\n",
       "      <th>2</th>\n",
       "      <td>DZA</td>\n",
       "      <td>AF</td>\n",
       "      <td>Northern Africa</td>\n",
       "      <td>Algeria</td>\n",
       "      <td>17.619047</td>\n",
       "      <td>60.0</td>\n",
       "      <td>7.660018</td>\n",
       "      <td>-0.807303</td>\n",
       "      <td>13.809524</td>\n",
       "      <td>25.757576</td>\n",
       "      <td>1.7</td>\n",
       "      <td>21.0</td>\n",
       "      <td>30.208065</td>\n",
       "      <td>64.382023</td>\n",
       "      <td>3.005785</td>\n",
       "      <td>1.302231</td>\n",
       "    </tr>\n",
       "    <tr>\n",
       "      <th>3</th>\n",
       "      <td>AND</td>\n",
       "      <td>EU</td>\n",
       "      <td>Southern Europe</td>\n",
       "      <td>Andorra</td>\n",
       "      <td>68.571426</td>\n",
       "      <td>60.0</td>\n",
       "      <td>3019.023987</td>\n",
       "      <td>1.536626</td>\n",
       "      <td>98.095238</td>\n",
       "      <td>46.428571</td>\n",
       "      <td>0.5</td>\n",
       "      <td>3.0</td>\n",
       "      <td>14.095463</td>\n",
       "      <td>72.971553</td>\n",
       "      <td>5.801003</td>\n",
       "      <td>3.544693</td>\n",
       "    </tr>\n",
       "    <tr>\n",
       "      <th>4</th>\n",
       "      <td>AGO</td>\n",
       "      <td>AF</td>\n",
       "      <td>Sub-Saharan Africa</td>\n",
       "      <td>Angola</td>\n",
       "      <td>5.714286</td>\n",
       "      <td>50.0</td>\n",
       "      <td>8.231936</td>\n",
       "      <td>-1.000932</td>\n",
       "      <td>35.238094</td>\n",
       "      <td>30.000000</td>\n",
       "      <td>7.1</td>\n",
       "      <td>53.8</td>\n",
       "      <td>45.545945</td>\n",
       "      <td>51.478905</td>\n",
       "      <td>1.529177</td>\n",
       "      <td>0.618067</td>\n",
       "    </tr>\n",
       "  </tbody>\n",
       "</table>\n",
       "</div>"
      ],
      "text/plain": [
       "  economy Continent     Sub-region Name CLDR display name  \\\n",
       "0     AFG        AS       Southern Asia       Afghanistan   \n",
       "1     ALB        EU     Southern Europe           Albania   \n",
       "2     DZA        AF     Northern Africa           Algeria   \n",
       "3     AND        EU     Southern Europe           Andorra   \n",
       "4     AGO        AF  Sub-Saharan Africa            Angola   \n",
       "\n",
       "   CC.PER.RNK.LOWER.2018  IQ.SPI.PIL1.2015  IT.NET.SECR.P6.2016  RL.EST.2018  \\\n",
       "0               0.000000              50.0            12.299268    -1.688587   \n",
       "1              24.285715              80.0           144.640261    -0.414188   \n",
       "2              17.619047              60.0             7.660018    -0.807303   \n",
       "3              68.571426              60.0          3019.023987     1.536626   \n",
       "4               5.714286              50.0             8.231936    -1.000932   \n",
       "\n",
       "   RQ.PER.RNK.UPPER.2018  SG.GEN.PARL.ZS.2019  SH.DYN.1014.2017  \\\n",
       "0              19.047619            27.868852               2.1   \n",
       "1              71.904762            29.508197               1.1   \n",
       "2              13.809524            25.757576               1.7   \n",
       "3              98.095238            46.428571               0.5   \n",
       "4              35.238094            30.000000               7.1   \n",
       "\n",
       "   SP.DYN.IMRT.IN.2017  SP.POP.0014.TO.ZS.2018  SP.POP.1564.MA.ZS.2018  \\\n",
       "0                 49.4               44.708445               52.633059   \n",
       "1                  8.3               17.083082               67.992012   \n",
       "2                 21.0               30.208065               64.382023   \n",
       "3                  3.0               14.095463               72.971553   \n",
       "4                 53.8               45.545945               51.478905   \n",
       "\n",
       "   SP.POP.6064.MA.5Y.2018  SP.POP.7074.MA.5Y.2018  \n",
       "0                1.262403                0.621511  \n",
       "1                6.017795                3.655646  \n",
       "2                3.005785                1.302231  \n",
       "3                5.801003                3.544693  \n",
       "4                1.529177                0.618067  "
      ]
     },
     "execution_count": 118,
     "metadata": {},
     "output_type": "execute_result"
    }
   ],
   "source": [
    "## show correlations\n",
    "df_full.head()"
   ]
  },
  {
   "cell_type": "code",
   "execution_count": 121,
   "id": "9d62c277-81a3-46c8-bc3e-486e23d0087c",
   "metadata": {},
   "outputs": [],
   "source": [
    "# save the df_full\n",
    "df_full.to_csv('DP_good_datasets.csv')"
   ]
  },
  {
   "cell_type": "code",
   "execution_count": 22,
   "id": "1b585194-3f0e-4a04-b6a1-9baff80a2e9f",
   "metadata": {},
   "outputs": [],
   "source": [
    "# remove countries with any nans \n",
    "df = df_full[-df_full.isnull().any(axis=1)]\n",
    "df_target = df_target[-df_target.isnull().any(axis=1)]"
   ]
  },
  {
   "cell_type": "code",
   "execution_count": 28,
   "id": "2ddf3ba0-25dc-4f7b-9552-5e8fecd8a0dd",
   "metadata": {},
   "outputs": [],
   "source": [
    "# df.head()"
   ]
  },
  {
   "cell_type": "code",
   "execution_count": 24,
   "id": "b2003208-b1e5-40e3-ad3b-a3df96280d1f",
   "metadata": {},
   "outputs": [],
   "source": [
    "# merge target onto the df\n",
    "df = df.merge(df_target, on='economy')"
   ]
  },
  {
   "cell_type": "code",
   "execution_count": 123,
   "id": "de6f42e4-e595-405a-a2f9-768616c5bae2",
   "metadata": {},
   "outputs": [],
   "source": [
    "# df.head()"
   ]
  },
  {
   "cell_type": "markdown",
   "id": "fb18331d-1513-495c-875c-3a1952a62236",
   "metadata": {},
   "source": [
    "### TASK: Visualize the correlation matrix"
   ]
  },
  {
   "cell_type": "code",
   "execution_count": 26,
   "id": "0beda96c-5408-447b-b943-2c032bf46ac4",
   "metadata": {},
   "outputs": [
    {
     "data": {
      "text/html": [
       "<div>\n",
       "<style scoped>\n",
       "    .dataframe tbody tr th:only-of-type {\n",
       "        vertical-align: middle;\n",
       "    }\n",
       "\n",
       "    .dataframe tbody tr th {\n",
       "        vertical-align: top;\n",
       "    }\n",
       "\n",
       "    .dataframe thead th {\n",
       "        text-align: right;\n",
       "    }\n",
       "</style>\n",
       "<table border=\"1\" class=\"dataframe\">\n",
       "  <thead>\n",
       "    <tr style=\"text-align: right;\">\n",
       "      <th></th>\n",
       "      <th>CC.PER.RNK.LOWER.2018</th>\n",
       "      <th>IQ.SPI.PIL1.2015</th>\n",
       "      <th>IT.NET.SECR.P6.2016</th>\n",
       "      <th>RL.EST.2018</th>\n",
       "      <th>RQ.PER.RNK.UPPER.2018</th>\n",
       "      <th>SG.GEN.PARL.ZS.2019</th>\n",
       "      <th>SH.DYN.1014.2017</th>\n",
       "      <th>SP.DYN.IMRT.IN.2017</th>\n",
       "      <th>SP.POP.0014.TO.ZS.2018</th>\n",
       "      <th>SP.POP.1564.MA.ZS.2018</th>\n",
       "      <th>SP.POP.6064.MA.5Y.2018</th>\n",
       "      <th>SP.POP.7074.MA.5Y.2018</th>\n",
       "      <th>SH.ALC.PCAP.LI.2010</th>\n",
       "    </tr>\n",
       "  </thead>\n",
       "  <tbody>\n",
       "    <tr>\n",
       "      <th>CC.PER.RNK.LOWER.2018</th>\n",
       "      <td>1.000000</td>\n",
       "      <td>0.333543</td>\n",
       "      <td>0.570278</td>\n",
       "      <td>0.932300</td>\n",
       "      <td>0.843169</td>\n",
       "      <td>0.277617</td>\n",
       "      <td>-0.507845</td>\n",
       "      <td>-0.589110</td>\n",
       "      <td>-0.635943</td>\n",
       "      <td>0.464016</td>\n",
       "      <td>0.597257</td>\n",
       "      <td>0.648742</td>\n",
       "      <td>0.444608</td>\n",
       "    </tr>\n",
       "    <tr>\n",
       "      <th>IQ.SPI.PIL1.2015</th>\n",
       "      <td>0.333543</td>\n",
       "      <td>1.000000</td>\n",
       "      <td>0.157439</td>\n",
       "      <td>0.384987</td>\n",
       "      <td>0.448882</td>\n",
       "      <td>0.295135</td>\n",
       "      <td>-0.303073</td>\n",
       "      <td>-0.364746</td>\n",
       "      <td>-0.370340</td>\n",
       "      <td>0.238044</td>\n",
       "      <td>0.370322</td>\n",
       "      <td>0.379449</td>\n",
       "      <td>0.274014</td>\n",
       "    </tr>\n",
       "    <tr>\n",
       "      <th>IT.NET.SECR.P6.2016</th>\n",
       "      <td>0.570278</td>\n",
       "      <td>0.157439</td>\n",
       "      <td>1.000000</td>\n",
       "      <td>0.572314</td>\n",
       "      <td>0.490281</td>\n",
       "      <td>0.230345</td>\n",
       "      <td>-0.303442</td>\n",
       "      <td>-0.340345</td>\n",
       "      <td>-0.390381</td>\n",
       "      <td>0.218910</td>\n",
       "      <td>0.450977</td>\n",
       "      <td>0.503436</td>\n",
       "      <td>0.377710</td>\n",
       "    </tr>\n",
       "    <tr>\n",
       "      <th>RL.EST.2018</th>\n",
       "      <td>0.932300</td>\n",
       "      <td>0.384987</td>\n",
       "      <td>0.572314</td>\n",
       "      <td>1.000000</td>\n",
       "      <td>0.901905</td>\n",
       "      <td>0.247217</td>\n",
       "      <td>-0.547535</td>\n",
       "      <td>-0.624570</td>\n",
       "      <td>-0.668582</td>\n",
       "      <td>0.482324</td>\n",
       "      <td>0.638860</td>\n",
       "      <td>0.684265</td>\n",
       "      <td>0.482622</td>\n",
       "    </tr>\n",
       "    <tr>\n",
       "      <th>RQ.PER.RNK.UPPER.2018</th>\n",
       "      <td>0.843169</td>\n",
       "      <td>0.448882</td>\n",
       "      <td>0.490281</td>\n",
       "      <td>0.901905</td>\n",
       "      <td>1.000000</td>\n",
       "      <td>0.250577</td>\n",
       "      <td>-0.589418</td>\n",
       "      <td>-0.674351</td>\n",
       "      <td>-0.722834</td>\n",
       "      <td>0.546872</td>\n",
       "      <td>0.682685</td>\n",
       "      <td>0.677539</td>\n",
       "      <td>0.530144</td>\n",
       "    </tr>\n",
       "    <tr>\n",
       "      <th>SG.GEN.PARL.ZS.2019</th>\n",
       "      <td>0.277617</td>\n",
       "      <td>0.295135</td>\n",
       "      <td>0.230345</td>\n",
       "      <td>0.247217</td>\n",
       "      <td>0.250577</td>\n",
       "      <td>1.000000</td>\n",
       "      <td>-0.171653</td>\n",
       "      <td>-0.248322</td>\n",
       "      <td>-0.247960</td>\n",
       "      <td>0.079467</td>\n",
       "      <td>0.269353</td>\n",
       "      <td>0.355796</td>\n",
       "      <td>0.341803</td>\n",
       "    </tr>\n",
       "    <tr>\n",
       "      <th>SH.DYN.1014.2017</th>\n",
       "      <td>-0.507845</td>\n",
       "      <td>-0.303073</td>\n",
       "      <td>-0.303442</td>\n",
       "      <td>-0.547535</td>\n",
       "      <td>-0.589418</td>\n",
       "      <td>-0.171653</td>\n",
       "      <td>1.000000</td>\n",
       "      <td>0.894989</td>\n",
       "      <td>0.799871</td>\n",
       "      <td>-0.718927</td>\n",
       "      <td>-0.661504</td>\n",
       "      <td>-0.575883</td>\n",
       "      <td>-0.318908</td>\n",
       "    </tr>\n",
       "    <tr>\n",
       "      <th>SP.DYN.IMRT.IN.2017</th>\n",
       "      <td>-0.589110</td>\n",
       "      <td>-0.364746</td>\n",
       "      <td>-0.340345</td>\n",
       "      <td>-0.624570</td>\n",
       "      <td>-0.674351</td>\n",
       "      <td>-0.248322</td>\n",
       "      <td>0.894989</td>\n",
       "      <td>1.000000</td>\n",
       "      <td>0.846352</td>\n",
       "      <td>-0.735003</td>\n",
       "      <td>-0.727626</td>\n",
       "      <td>-0.644024</td>\n",
       "      <td>-0.413497</td>\n",
       "    </tr>\n",
       "    <tr>\n",
       "      <th>SP.POP.0014.TO.ZS.2018</th>\n",
       "      <td>-0.635943</td>\n",
       "      <td>-0.370340</td>\n",
       "      <td>-0.390381</td>\n",
       "      <td>-0.668582</td>\n",
       "      <td>-0.722834</td>\n",
       "      <td>-0.247960</td>\n",
       "      <td>0.799871</td>\n",
       "      <td>0.846352</td>\n",
       "      <td>1.000000</td>\n",
       "      <td>-0.858596</td>\n",
       "      <td>-0.885809</td>\n",
       "      <td>-0.783888</td>\n",
       "      <td>-0.517655</td>\n",
       "    </tr>\n",
       "    <tr>\n",
       "      <th>SP.POP.1564.MA.ZS.2018</th>\n",
       "      <td>0.464016</td>\n",
       "      <td>0.238044</td>\n",
       "      <td>0.218910</td>\n",
       "      <td>0.482324</td>\n",
       "      <td>0.546872</td>\n",
       "      <td>0.079467</td>\n",
       "      <td>-0.718927</td>\n",
       "      <td>-0.735003</td>\n",
       "      <td>-0.858596</td>\n",
       "      <td>1.000000</td>\n",
       "      <td>0.569346</td>\n",
       "      <td>0.376483</td>\n",
       "      <td>0.228407</td>\n",
       "    </tr>\n",
       "    <tr>\n",
       "      <th>SP.POP.6064.MA.5Y.2018</th>\n",
       "      <td>0.597257</td>\n",
       "      <td>0.370322</td>\n",
       "      <td>0.450977</td>\n",
       "      <td>0.638860</td>\n",
       "      <td>0.682685</td>\n",
       "      <td>0.269353</td>\n",
       "      <td>-0.661504</td>\n",
       "      <td>-0.727626</td>\n",
       "      <td>-0.885809</td>\n",
       "      <td>0.569346</td>\n",
       "      <td>1.000000</td>\n",
       "      <td>0.892261</td>\n",
       "      <td>0.645355</td>\n",
       "    </tr>\n",
       "    <tr>\n",
       "      <th>SP.POP.7074.MA.5Y.2018</th>\n",
       "      <td>0.648742</td>\n",
       "      <td>0.379449</td>\n",
       "      <td>0.503436</td>\n",
       "      <td>0.684265</td>\n",
       "      <td>0.677539</td>\n",
       "      <td>0.355796</td>\n",
       "      <td>-0.575883</td>\n",
       "      <td>-0.644024</td>\n",
       "      <td>-0.783888</td>\n",
       "      <td>0.376483</td>\n",
       "      <td>0.892261</td>\n",
       "      <td>1.000000</td>\n",
       "      <td>0.635096</td>\n",
       "    </tr>\n",
       "    <tr>\n",
       "      <th>SH.ALC.PCAP.LI.2010</th>\n",
       "      <td>0.444608</td>\n",
       "      <td>0.274014</td>\n",
       "      <td>0.377710</td>\n",
       "      <td>0.482622</td>\n",
       "      <td>0.530144</td>\n",
       "      <td>0.341803</td>\n",
       "      <td>-0.318908</td>\n",
       "      <td>-0.413497</td>\n",
       "      <td>-0.517655</td>\n",
       "      <td>0.228407</td>\n",
       "      <td>0.645355</td>\n",
       "      <td>0.635096</td>\n",
       "      <td>1.000000</td>\n",
       "    </tr>\n",
       "  </tbody>\n",
       "</table>\n",
       "</div>"
      ],
      "text/plain": [
       "                        CC.PER.RNK.LOWER.2018  IQ.SPI.PIL1.2015  \\\n",
       "CC.PER.RNK.LOWER.2018                1.000000          0.333543   \n",
       "IQ.SPI.PIL1.2015                     0.333543          1.000000   \n",
       "IT.NET.SECR.P6.2016                  0.570278          0.157439   \n",
       "RL.EST.2018                          0.932300          0.384987   \n",
       "RQ.PER.RNK.UPPER.2018                0.843169          0.448882   \n",
       "SG.GEN.PARL.ZS.2019                  0.277617          0.295135   \n",
       "SH.DYN.1014.2017                    -0.507845         -0.303073   \n",
       "SP.DYN.IMRT.IN.2017                 -0.589110         -0.364746   \n",
       "SP.POP.0014.TO.ZS.2018              -0.635943         -0.370340   \n",
       "SP.POP.1564.MA.ZS.2018               0.464016          0.238044   \n",
       "SP.POP.6064.MA.5Y.2018               0.597257          0.370322   \n",
       "SP.POP.7074.MA.5Y.2018               0.648742          0.379449   \n",
       "SH.ALC.PCAP.LI.2010                  0.444608          0.274014   \n",
       "\n",
       "                        IT.NET.SECR.P6.2016  RL.EST.2018  \\\n",
       "CC.PER.RNK.LOWER.2018              0.570278     0.932300   \n",
       "IQ.SPI.PIL1.2015                   0.157439     0.384987   \n",
       "IT.NET.SECR.P6.2016                1.000000     0.572314   \n",
       "RL.EST.2018                        0.572314     1.000000   \n",
       "RQ.PER.RNK.UPPER.2018              0.490281     0.901905   \n",
       "SG.GEN.PARL.ZS.2019                0.230345     0.247217   \n",
       "SH.DYN.1014.2017                  -0.303442    -0.547535   \n",
       "SP.DYN.IMRT.IN.2017               -0.340345    -0.624570   \n",
       "SP.POP.0014.TO.ZS.2018            -0.390381    -0.668582   \n",
       "SP.POP.1564.MA.ZS.2018             0.218910     0.482324   \n",
       "SP.POP.6064.MA.5Y.2018             0.450977     0.638860   \n",
       "SP.POP.7074.MA.5Y.2018             0.503436     0.684265   \n",
       "SH.ALC.PCAP.LI.2010                0.377710     0.482622   \n",
       "\n",
       "                        RQ.PER.RNK.UPPER.2018  SG.GEN.PARL.ZS.2019  \\\n",
       "CC.PER.RNK.LOWER.2018                0.843169             0.277617   \n",
       "IQ.SPI.PIL1.2015                     0.448882             0.295135   \n",
       "IT.NET.SECR.P6.2016                  0.490281             0.230345   \n",
       "RL.EST.2018                          0.901905             0.247217   \n",
       "RQ.PER.RNK.UPPER.2018                1.000000             0.250577   \n",
       "SG.GEN.PARL.ZS.2019                  0.250577             1.000000   \n",
       "SH.DYN.1014.2017                    -0.589418            -0.171653   \n",
       "SP.DYN.IMRT.IN.2017                 -0.674351            -0.248322   \n",
       "SP.POP.0014.TO.ZS.2018              -0.722834            -0.247960   \n",
       "SP.POP.1564.MA.ZS.2018               0.546872             0.079467   \n",
       "SP.POP.6064.MA.5Y.2018               0.682685             0.269353   \n",
       "SP.POP.7074.MA.5Y.2018               0.677539             0.355796   \n",
       "SH.ALC.PCAP.LI.2010                  0.530144             0.341803   \n",
       "\n",
       "                        SH.DYN.1014.2017  SP.DYN.IMRT.IN.2017  \\\n",
       "CC.PER.RNK.LOWER.2018          -0.507845            -0.589110   \n",
       "IQ.SPI.PIL1.2015               -0.303073            -0.364746   \n",
       "IT.NET.SECR.P6.2016            -0.303442            -0.340345   \n",
       "RL.EST.2018                    -0.547535            -0.624570   \n",
       "RQ.PER.RNK.UPPER.2018          -0.589418            -0.674351   \n",
       "SG.GEN.PARL.ZS.2019            -0.171653            -0.248322   \n",
       "SH.DYN.1014.2017                1.000000             0.894989   \n",
       "SP.DYN.IMRT.IN.2017             0.894989             1.000000   \n",
       "SP.POP.0014.TO.ZS.2018          0.799871             0.846352   \n",
       "SP.POP.1564.MA.ZS.2018         -0.718927            -0.735003   \n",
       "SP.POP.6064.MA.5Y.2018         -0.661504            -0.727626   \n",
       "SP.POP.7074.MA.5Y.2018         -0.575883            -0.644024   \n",
       "SH.ALC.PCAP.LI.2010            -0.318908            -0.413497   \n",
       "\n",
       "                        SP.POP.0014.TO.ZS.2018  SP.POP.1564.MA.ZS.2018  \\\n",
       "CC.PER.RNK.LOWER.2018                -0.635943                0.464016   \n",
       "IQ.SPI.PIL1.2015                     -0.370340                0.238044   \n",
       "IT.NET.SECR.P6.2016                  -0.390381                0.218910   \n",
       "RL.EST.2018                          -0.668582                0.482324   \n",
       "RQ.PER.RNK.UPPER.2018                -0.722834                0.546872   \n",
       "SG.GEN.PARL.ZS.2019                  -0.247960                0.079467   \n",
       "SH.DYN.1014.2017                      0.799871               -0.718927   \n",
       "SP.DYN.IMRT.IN.2017                   0.846352               -0.735003   \n",
       "SP.POP.0014.TO.ZS.2018                1.000000               -0.858596   \n",
       "SP.POP.1564.MA.ZS.2018               -0.858596                1.000000   \n",
       "SP.POP.6064.MA.5Y.2018               -0.885809                0.569346   \n",
       "SP.POP.7074.MA.5Y.2018               -0.783888                0.376483   \n",
       "SH.ALC.PCAP.LI.2010                  -0.517655                0.228407   \n",
       "\n",
       "                        SP.POP.6064.MA.5Y.2018  SP.POP.7074.MA.5Y.2018  \\\n",
       "CC.PER.RNK.LOWER.2018                 0.597257                0.648742   \n",
       "IQ.SPI.PIL1.2015                      0.370322                0.379449   \n",
       "IT.NET.SECR.P6.2016                   0.450977                0.503436   \n",
       "RL.EST.2018                           0.638860                0.684265   \n",
       "RQ.PER.RNK.UPPER.2018                 0.682685                0.677539   \n",
       "SG.GEN.PARL.ZS.2019                   0.269353                0.355796   \n",
       "SH.DYN.1014.2017                     -0.661504               -0.575883   \n",
       "SP.DYN.IMRT.IN.2017                  -0.727626               -0.644024   \n",
       "SP.POP.0014.TO.ZS.2018               -0.885809               -0.783888   \n",
       "SP.POP.1564.MA.ZS.2018                0.569346                0.376483   \n",
       "SP.POP.6064.MA.5Y.2018                1.000000                0.892261   \n",
       "SP.POP.7074.MA.5Y.2018                0.892261                1.000000   \n",
       "SH.ALC.PCAP.LI.2010                   0.645355                0.635096   \n",
       "\n",
       "                        SH.ALC.PCAP.LI.2010  \n",
       "CC.PER.RNK.LOWER.2018              0.444608  \n",
       "IQ.SPI.PIL1.2015                   0.274014  \n",
       "IT.NET.SECR.P6.2016                0.377710  \n",
       "RL.EST.2018                        0.482622  \n",
       "RQ.PER.RNK.UPPER.2018              0.530144  \n",
       "SG.GEN.PARL.ZS.2019                0.341803  \n",
       "SH.DYN.1014.2017                  -0.318908  \n",
       "SP.DYN.IMRT.IN.2017               -0.413497  \n",
       "SP.POP.0014.TO.ZS.2018            -0.517655  \n",
       "SP.POP.1564.MA.ZS.2018             0.228407  \n",
       "SP.POP.6064.MA.5Y.2018             0.645355  \n",
       "SP.POP.7074.MA.5Y.2018             0.635096  \n",
       "SH.ALC.PCAP.LI.2010                1.000000  "
      ]
     },
     "execution_count": 26,
     "metadata": {},
     "output_type": "execute_result"
    }
   ],
   "source": [
    "df.corr(numeric_only=True)"
   ]
  },
  {
   "cell_type": "code",
   "execution_count": 125,
   "id": "6f2bc269-2b1b-4c68-a79f-418a836d4dc8",
   "metadata": {},
   "outputs": [
    {
     "data": {
      "image/png": "[encoded data removed]",
      "text/plain": [
       "<Figure size 640x480 with 1 Axes>"
      ]
     },
     "metadata": {},
     "output_type": "display_data"
    }
   ],
   "source": [
    "sns.scatterplot(data=df, x=\"SP.POP.6064.MA.5Y.2018\", y='SH.ALC.PCAP.LI.2010')\n",
    "# plt.yscale('log')\n",
    "plt.show()"
   ]
  },
  {
   "cell_type": "code",
   "execution_count": 101,
   "id": "f27a404b-b460-4e11-87ec-0e72c3abb98d",
   "metadata": {},
   "outputs": [],
   "source": [
    "# split data into training and testing set\n",
    "X_train, X_test, y_train, y_test = sklearn.model_selection.train_test_split(df[df.columns[4:-1]], df[df.columns[-1]],\n",
    "                                                                            test_size=0.2, random_state=42)\n",
    "\n",
    "# fit the model \n",
    "reg = sklearn.linear_model.LinearRegression().fit(X_train, y_train)"
   ]
  },
  {
   "cell_type": "code",
   "execution_count": null,
   "id": "e4a8f7de-c986-45ff-9a31-504cc3b6ce43",
   "metadata": {},
   "outputs": [],
   "source": [
    "# predict from model, input is only X_test, y_pred should be close to y_test, wchich is so-called ground truth\n",
    "y_pred = reg.predict(X_test)\n",
    "# making it into a series with correct index\n",
    "sy_pred = pd.Series(y_pred, index=X_test.index, name='y_pred')\n",
    "# len(y_pred)"
   ]
  },
  {
   "cell_type": "markdown",
   "id": "f261d3a6-9302-4678-b300-866d3165163c",
   "metadata": {},
   "source": [
    "### TASK: evaluate model metrics (more than one) for both the train and test data"
   ]
  },
  {
   "cell_type": "code",
   "execution_count": 103,
   "id": "840b5959-5064-4e5d-88c9-d81de5c1da9c",
   "metadata": {},
   "outputs": [],
   "source": [
    "# merge\n",
    "# df_test = df.merge(pd.Series(y_test, name='y_test'), left_index=True, right_index=True) # y_test is also SH.ALC.PCAP.LI.2010 \t\n",
    "df_test = df.merge(sy_pred, left_index=True, right_index=True)\n",
    "df_test = df_test.merge(X_test)"
   ]
  },
  {
   "cell_type": "code",
   "execution_count": 117,
   "id": "0093470d-1f37-4b51-9e45-9756a4565fd6",
   "metadata": {},
   "outputs": [],
   "source": [
    "# df_test.head()"
   ]
  },
  {
   "cell_type": "code",
   "execution_count": 122,
   "id": "dad2e80e-0c82-4689-9ef8-9052acde3f20",
   "metadata": {},
   "outputs": [
    {
     "data": {
      "image/png": "[encoded data removed]",
      "text/plain": [
       "<Figure size 640x480 with 1 Axes>"
      ]
     },
     "metadata": {},
     "output_type": "display_data"
    }
   ],
   "source": [
    "# plot with seaborn\n",
    "fig = sns.scatterplot(df_test, x='SH.ALC.PCAP.LI.2010', y='y_pred', hue='Continent', )#hue='Sub-region Name')\n",
    "# fig.legend(loc='right', bbox_to_anchor=(1.25, 0.5), ncol=1)\n",
    "plt.plot(range(15), range(15), 'k')\n",
    "plt.show()"
   ]
  },
  {
   "cell_type": "markdown",
   "id": "9b60ce8b-507b-4cd9-8a55-8742b9c8e68c",
   "metadata": {},
   "source": [
    "### You see that continent itself might be a good predictor\n",
    "* TASK: look into how to create a categorical feature out of continent values."
   ]
  },
  {
   "cell_type": "code",
   "execution_count": 108,
   "id": "179ffc52-8c10-4c8a-8bda-f7a67277c832",
   "metadata": {},
   "outputs": [
    {
     "data": {
      "text/plain": [
       "Text(0.5, 0, 'Real value')"
      ]
     },
     "execution_count": 108,
     "metadata": {},
     "output_type": "execute_result"
    },
    {
     "data": {
      "image/png": "[encoded data removed]",
      "text/plain": [
       "<Figure size 640x480 with 1 Axes>"
      ]
     },
     "metadata": {},
     "output_type": "display_data"
    }
   ],
   "source": [
    "# plot the prediction on alcoholism against real data\n",
    "# matplotlib\n",
    "plt.plot(y_test, y_pred, \"ko\")\n",
    "plt.plot(range(15), range(15))\n",
    "plt.title('Prediction against real data')\n",
    "plt.ylabel('Predicted value')\n",
    "plt.xlabel('Real value')"
   ]
  },
  {
   "cell_type": "code",
   "execution_count": null,
   "id": "9f293fe5-e5a7-4cf7-9bea-b5180e205d57",
   "metadata": {},
   "outputs": [],
   "source": []
  }
 ],
 "metadata": {
  "kernelspec": {
   "display_name": "pyualg",
   "language": "python",
   "name": "pyualg"
  },
  "language_info": {
   "codemirror_mode": {
    "name": "ipython",
    "version": 3
   },
   "file_extension": ".py",
   "mimetype": "text/x-python",
   "name": "python",
   "nbconvert_exporter": "python",
   "pygments_lexer": "ipython3",
   "version": "3.11.5"
  }
 },
 "nbformat": 4,
 "nbformat_minor": 5
}
